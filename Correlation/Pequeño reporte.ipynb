{
 "cells": [
  {
   "cell_type": "markdown",
   "id": "23704e2e",
   "metadata": {},
   "source": [
    "# Relacion entre varios factores para determinar el exito de la app\n",
    "\n",
    "Se determina exito como numero de descargas (installs, en el dataset). Lo que se busca es que tanto influyen los factores de precio, critica y puntuacion de una aplicacion. "
   ]
  },
  {
   "cell_type": "code",
   "execution_count": 101,
   "id": "7183ddeb",
   "metadata": {},
   "outputs": [],
   "source": [
    "import os \n",
    "import pandas as pd\n",
    "import numpy as np \n",
    "import matplotlib.pyplot as plt\n",
    "import seaborn"
   ]
  },
  {
   "cell_type": "code",
   "execution_count": 102,
   "id": "910c9f2f",
   "metadata": {},
   "outputs": [],
   "source": [
    "data_set = pd.read_csv('googleplaystore-transformed.csv')"
   ]
  },
  {
   "cell_type": "code",
   "execution_count": 103,
   "id": "49fa911e",
   "metadata": {},
   "outputs": [
    {
     "data": {
      "text/html": [
       "<div>\n",
       "<style scoped>\n",
       "    .dataframe tbody tr th:only-of-type {\n",
       "        vertical-align: middle;\n",
       "    }\n",
       "\n",
       "    .dataframe tbody tr th {\n",
       "        vertical-align: top;\n",
       "    }\n",
       "\n",
       "    .dataframe thead th {\n",
       "        text-align: right;\n",
       "    }\n",
       "</style>\n",
       "<table border=\"1\" class=\"dataframe\">\n",
       "  <thead>\n",
       "    <tr style=\"text-align: right;\">\n",
       "      <th></th>\n",
       "      <th>App</th>\n",
       "      <th>Category</th>\n",
       "      <th>Rating</th>\n",
       "      <th>Reviews</th>\n",
       "      <th>Size</th>\n",
       "      <th>Installs</th>\n",
       "      <th>Type</th>\n",
       "      <th>Price</th>\n",
       "      <th>Content Rating</th>\n",
       "      <th>Genres</th>\n",
       "      <th>Last Updated</th>\n",
       "      <th>Current Ver</th>\n",
       "      <th>Android Ver</th>\n",
       "    </tr>\n",
       "  </thead>\n",
       "  <tbody>\n",
       "    <tr>\n",
       "      <th>0</th>\n",
       "      <td>¡Ay Caramba!</td>\n",
       "      <td>FAMILY</td>\n",
       "      <td>0.0</td>\n",
       "      <td>0</td>\n",
       "      <td>549000</td>\n",
       "      <td>1</td>\n",
       "      <td>Paid</td>\n",
       "      <td>1.99</td>\n",
       "      <td>Everyone</td>\n",
       "      <td>Education</td>\n",
       "      <td>2014-06-13T00:00:00Z</td>\n",
       "      <td>1.2</td>\n",
       "      <td>3.0 and up</td>\n",
       "    </tr>\n",
       "    <tr>\n",
       "      <th>1</th>\n",
       "      <td>¡Ay Metro!</td>\n",
       "      <td>GAME</td>\n",
       "      <td>3.8</td>\n",
       "      <td>489</td>\n",
       "      <td>36M</td>\n",
       "      <td>10000</td>\n",
       "      <td>Free</td>\n",
       "      <td>0.00</td>\n",
       "      <td>Everyone 10+</td>\n",
       "      <td>Arcade</td>\n",
       "      <td>2015-03-17T00:00:00Z</td>\n",
       "      <td>1.0.3.1</td>\n",
       "      <td>4.0 and up</td>\n",
       "    </tr>\n",
       "    <tr>\n",
       "      <th>2</th>\n",
       "      <td>¿Es Vegan?</td>\n",
       "      <td>FOOD_AND_DRINK</td>\n",
       "      <td>4.6</td>\n",
       "      <td>438</td>\n",
       "      <td>1.7M</td>\n",
       "      <td>10000</td>\n",
       "      <td>Free</td>\n",
       "      <td>0.00</td>\n",
       "      <td>Everyone</td>\n",
       "      <td>Food &amp; Drink</td>\n",
       "      <td>2017-08-01T00:00:00Z</td>\n",
       "      <td>2.2.3</td>\n",
       "      <td>3.0 and up</td>\n",
       "    </tr>\n",
       "    <tr>\n",
       "      <th>3</th>\n",
       "      <td>/u/app</td>\n",
       "      <td>COMMUNICATION</td>\n",
       "      <td>4.7</td>\n",
       "      <td>573</td>\n",
       "      <td>53M</td>\n",
       "      <td>10000</td>\n",
       "      <td>Free</td>\n",
       "      <td>0.00</td>\n",
       "      <td>Mature 17+</td>\n",
       "      <td>Communication</td>\n",
       "      <td>2018-07-03T00:00:00Z</td>\n",
       "      <td>4.2.4</td>\n",
       "      <td>4.1 and up</td>\n",
       "    </tr>\n",
       "    <tr>\n",
       "      <th>4</th>\n",
       "      <td>.R</td>\n",
       "      <td>TOOLS</td>\n",
       "      <td>4.5</td>\n",
       "      <td>259</td>\n",
       "      <td>203k</td>\n",
       "      <td>10000</td>\n",
       "      <td>Free</td>\n",
       "      <td>0.00</td>\n",
       "      <td>Everyone</td>\n",
       "      <td>Tools</td>\n",
       "      <td>2014-09-16T00:00:00Z</td>\n",
       "      <td>1.1.06</td>\n",
       "      <td>1.5 and up</td>\n",
       "    </tr>\n",
       "  </tbody>\n",
       "</table>\n",
       "</div>"
      ],
      "text/plain": [
       "            App        Category  Rating  Reviews    Size  Installs  Type  \\\n",
       "0  ¡Ay Caramba!          FAMILY     0.0        0  549000         1  Paid   \n",
       "1    ¡Ay Metro!            GAME     3.8      489     36M     10000  Free   \n",
       "2    ¿Es Vegan?  FOOD_AND_DRINK     4.6      438    1.7M     10000  Free   \n",
       "3        /u/app   COMMUNICATION     4.7      573     53M     10000  Free   \n",
       "4            .R           TOOLS     4.5      259    203k     10000  Free   \n",
       "\n",
       "   Price Content Rating         Genres          Last Updated Current Ver  \\\n",
       "0   1.99       Everyone      Education  2014-06-13T00:00:00Z         1.2   \n",
       "1   0.00   Everyone 10+         Arcade  2015-03-17T00:00:00Z     1.0.3.1   \n",
       "2   0.00       Everyone   Food & Drink  2017-08-01T00:00:00Z       2.2.3   \n",
       "3   0.00     Mature 17+  Communication  2018-07-03T00:00:00Z       4.2.4   \n",
       "4   0.00       Everyone          Tools  2014-09-16T00:00:00Z      1.1.06   \n",
       "\n",
       "  Android Ver  \n",
       "0  3.0 and up  \n",
       "1  4.0 and up  \n",
       "2  3.0 and up  \n",
       "3  4.1 and up  \n",
       "4  1.5 and up  "
      ]
     },
     "execution_count": 103,
     "metadata": {},
     "output_type": "execute_result"
    }
   ],
   "source": [
    "data_set.head()"
   ]
  },
  {
   "cell_type": "code",
   "execution_count": 104,
   "id": "4edd2ff4",
   "metadata": {},
   "outputs": [],
   "source": [
    "compressed = data_set[['Installs', 'Price', 'Reviews', 'Rating']]"
   ]
  },
  {
   "cell_type": "code",
   "execution_count": 105,
   "id": "5879eb67",
   "metadata": {},
   "outputs": [
    {
     "name": "stdout",
     "output_type": "stream",
     "text": [
      "<class 'pandas.core.frame.DataFrame'>\n",
      "RangeIndex: 9602 entries, 0 to 9601\n",
      "Data columns (total 4 columns):\n",
      " #   Column    Non-Null Count  Dtype  \n",
      "---  ------    --------------  -----  \n",
      " 0   Installs  9602 non-null   int64  \n",
      " 1   Price     9602 non-null   float64\n",
      " 2   Reviews   9602 non-null   int64  \n",
      " 3   Rating    9602 non-null   float64\n",
      "dtypes: float64(2), int64(2)\n",
      "memory usage: 300.2 KB\n"
     ]
    }
   ],
   "source": [
    "compressed.info()"
   ]
  },
  {
   "cell_type": "code",
   "execution_count": 106,
   "id": "a78c60ab",
   "metadata": {
    "scrolled": true
   },
   "outputs": [
    {
     "data": {
      "text/html": [
       "<div>\n",
       "<style scoped>\n",
       "    .dataframe tbody tr th:only-of-type {\n",
       "        vertical-align: middle;\n",
       "    }\n",
       "\n",
       "    .dataframe tbody tr th {\n",
       "        vertical-align: top;\n",
       "    }\n",
       "\n",
       "    .dataframe thead th {\n",
       "        text-align: right;\n",
       "    }\n",
       "</style>\n",
       "<table border=\"1\" class=\"dataframe\">\n",
       "  <thead>\n",
       "    <tr style=\"text-align: right;\">\n",
       "      <th></th>\n",
       "      <th>Installs</th>\n",
       "      <th>Price</th>\n",
       "      <th>Reviews</th>\n",
       "      <th>Rating</th>\n",
       "    </tr>\n",
       "  </thead>\n",
       "  <tbody>\n",
       "    <tr>\n",
       "      <th>Installs</th>\n",
       "      <td>1.000000</td>\n",
       "      <td>-0.009449</td>\n",
       "      <td>0.625136</td>\n",
       "      <td>0.069735</td>\n",
       "    </tr>\n",
       "    <tr>\n",
       "      <th>Price</th>\n",
       "      <td>-0.009449</td>\n",
       "      <td>1.000000</td>\n",
       "      <td>-0.007632</td>\n",
       "      <td>-0.015150</td>\n",
       "    </tr>\n",
       "    <tr>\n",
       "      <th>Reviews</th>\n",
       "      <td>0.625136</td>\n",
       "      <td>-0.007632</td>\n",
       "      <td>1.000000</td>\n",
       "      <td>0.064105</td>\n",
       "    </tr>\n",
       "    <tr>\n",
       "      <th>Rating</th>\n",
       "      <td>0.069735</td>\n",
       "      <td>-0.015150</td>\n",
       "      <td>0.064105</td>\n",
       "      <td>1.000000</td>\n",
       "    </tr>\n",
       "  </tbody>\n",
       "</table>\n",
       "</div>"
      ],
      "text/plain": [
       "          Installs     Price   Reviews    Rating\n",
       "Installs  1.000000 -0.009449  0.625136  0.069735\n",
       "Price    -0.009449  1.000000 -0.007632 -0.015150\n",
       "Reviews   0.625136 -0.007632  1.000000  0.064105\n",
       "Rating    0.069735 -0.015150  0.064105  1.000000"
      ]
     },
     "execution_count": 106,
     "metadata": {},
     "output_type": "execute_result"
    }
   ],
   "source": [
    "compressed.corr()"
   ]
  },
  {
   "cell_type": "markdown",
   "id": "460e6f98",
   "metadata": {},
   "source": [
    "A continuacion se grafico un mapa de calor, segun sea la relacion entre estos factores.\n",
    "\n",
    "Mientras mas rojo se encuentre el cuadro, mayor es la relacion"
   ]
  },
  {
   "cell_type": "code",
   "execution_count": 108,
   "id": "16c4a4f3",
   "metadata": {},
   "outputs": [
    {
     "data": {
      "text/plain": [
       "<AxesSubplot:>"
      ]
     },
     "execution_count": 108,
     "metadata": {},
     "output_type": "execute_result"
    },
    {
     "data": {
      "image/png": "[encoded data removed]",
      "text/plain": [
       "<Figure size 576x576 with 2 Axes>"
      ]
     },
     "metadata": {
      "needs_background": "light"
     },
     "output_type": "display_data"
    }
   ],
   "source": [
    "plt.figure(figsize=(8,8))\n",
    "seaborn.heatmap(compressed.corr(), annot=True, cmap=\"coolwarm\")"
   ]
  },
  {
   "cell_type": "markdown",
   "id": "ad18f1e5",
   "metadata": {},
   "source": [
    "En conclusion como se pudo observar, solo hay una relacion positiva entre estos factores que determina que tan exitosa es o sera la aplicacion; la cantidad de criticas que reciba esta. Ya sean buenas o malas. \n",
    "\n",
    "Como se puede apreciar, existe una relacion inversa en el grafico, entre numero de descargas y el precio. Por lo que podemos inferir que mientras mas sea el precio de una aplicacion afecta negativamente el numero de descargas de esta."
   ]
  },
  {
   "cell_type": "code",
   "execution_count": 109,
   "id": "82440a96",
   "metadata": {},
   "outputs": [
    {
     "data": {
      "text/plain": [
       "<seaborn.axisgrid.PairGrid at 0x18a372b39d0>"
      ]
     },
     "execution_count": 109,
     "metadata": {},
     "output_type": "execute_result"
    },
    {
     "data": {
      "image/png": "[encoded data removed]",
      "text/plain": [
       "<Figure size 432x432 with 20 Axes>"
      ]
     },
     "metadata": {
      "needs_background": "light"
     },
     "output_type": "display_data"
    }
   ],
   "source": [
    "data_plot = data_set.dropna()\n",
    "seaborn.pairplot(data_plot, height=1.5)"
   ]
  }
 ],
 "metadata": {
  "kernelspec": {
   "display_name": "bigdata",
   "language": "python",
   "name": "bigdata"
  },
  "language_info": {
   "codemirror_mode": {
    "name": "ipython",
    "version": 3
   },
   "file_extension": ".py",
   "mimetype": "text/x-python",
   "name": "python",
   "nbconvert_exporter": "python",
   "pygments_lexer": "ipython3",
   "version": "3.9.4"
  }
 },
 "nbformat": 4,
 "nbformat_minor": 5
}
