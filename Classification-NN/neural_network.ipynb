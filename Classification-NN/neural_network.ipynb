{
 "cells": [
  {
   "cell_type": "markdown",
   "id": "92bf075c",
   "metadata": {},
   "source": [
    "# Problema de clasificación\n",
    "En este ejercicio se usará un dataset de la temperatura en Australia, en el que el objetivo es predecir si lloverá el día de mañana. En este conjunto de datos tenemos varios tipos de datos; entre estos la temperatura, cantidad de lluvia, evaporación, etc. En total conforman un conjunto de 23 columnas.\n"
   ]
  },
  {
   "cell_type": "code",
   "execution_count": 2,
   "id": "ee2d46eb",
   "metadata": {},
   "outputs": [],
   "source": [
    "import os \n",
    "import pandas as pd\n",
    "import numpy as np \n",
    "import matplotlib.pyplot as plt\n",
    "import seaborn\n",
    "from sklearn.datasets import make_blobs\n",
    "from sklearn.model_selection import RepeatedStratifiedKFold\n",
    "from sklearn.model_selection import GridSearchCV\n",
    "import random\n",
    "from sklearn.metrics import accuracy_score\n",
    "from sklearn.model_selection import GridSearchCV \n",
    "from keras.models import Sequential\n",
    "from keras.layers import Dense\n",
    "from sklearn.model_selection import cross_val_score\n",
    "from keras.wrappers.scikit_learn import KerasClassifier\n",
    "from sklearn.model_selection import StratifiedKFold\n",
    "from sklearn.model_selection import KFold"
   ]
  },
  {
   "cell_type": "code",
   "execution_count": 3,
   "id": "5b1ed1d7",
   "metadata": {},
   "outputs": [],
   "source": [
    "data = pd.read_csv('weatherAUS.csv')"
   ]
  },
  {
   "cell_type": "code",
   "execution_count": 4,
   "id": "57ba6be5",
   "metadata": {},
   "outputs": [
    {
     "data": {
      "text/html": [
       "<div>\n",
       "<style scoped>\n",
       "    .dataframe tbody tr th:only-of-type {\n",
       "        vertical-align: middle;\n",
       "    }\n",
       "\n",
       "    .dataframe tbody tr th {\n",
       "        vertical-align: top;\n",
       "    }\n",
       "\n",
       "    .dataframe thead th {\n",
       "        text-align: right;\n",
       "    }\n",
       "</style>\n",
       "<table border=\"1\" class=\"dataframe\">\n",
       "  <thead>\n",
       "    <tr style=\"text-align: right;\">\n",
       "      <th></th>\n",
       "      <th>Date</th>\n",
       "      <th>Location</th>\n",
       "      <th>MinTemp</th>\n",
       "      <th>MaxTemp</th>\n",
       "      <th>Rainfall</th>\n",
       "      <th>Evaporation</th>\n",
       "      <th>Sunshine</th>\n",
       "      <th>WindGustDir</th>\n",
       "      <th>WindGustSpeed</th>\n",
       "      <th>WindDir9am</th>\n",
       "      <th>...</th>\n",
       "      <th>Humidity9am</th>\n",
       "      <th>Humidity3pm</th>\n",
       "      <th>Pressure9am</th>\n",
       "      <th>Pressure3pm</th>\n",
       "      <th>Cloud9am</th>\n",
       "      <th>Cloud3pm</th>\n",
       "      <th>Temp9am</th>\n",
       "      <th>Temp3pm</th>\n",
       "      <th>RainToday</th>\n",
       "      <th>RainTomorrow</th>\n",
       "    </tr>\n",
       "  </thead>\n",
       "  <tbody>\n",
       "    <tr>\n",
       "      <th>0</th>\n",
       "      <td>2008-12-01</td>\n",
       "      <td>Albury</td>\n",
       "      <td>13.4</td>\n",
       "      <td>22.9</td>\n",
       "      <td>0.6</td>\n",
       "      <td>NaN</td>\n",
       "      <td>NaN</td>\n",
       "      <td>W</td>\n",
       "      <td>44.0</td>\n",
       "      <td>W</td>\n",
       "      <td>...</td>\n",
       "      <td>71.0</td>\n",
       "      <td>22.0</td>\n",
       "      <td>1007.7</td>\n",
       "      <td>1007.1</td>\n",
       "      <td>8.0</td>\n",
       "      <td>NaN</td>\n",
       "      <td>16.9</td>\n",
       "      <td>21.8</td>\n",
       "      <td>No</td>\n",
       "      <td>No</td>\n",
       "    </tr>\n",
       "    <tr>\n",
       "      <th>1</th>\n",
       "      <td>2008-12-02</td>\n",
       "      <td>Albury</td>\n",
       "      <td>7.4</td>\n",
       "      <td>25.1</td>\n",
       "      <td>0.0</td>\n",
       "      <td>NaN</td>\n",
       "      <td>NaN</td>\n",
       "      <td>WNW</td>\n",
       "      <td>44.0</td>\n",
       "      <td>NNW</td>\n",
       "      <td>...</td>\n",
       "      <td>44.0</td>\n",
       "      <td>25.0</td>\n",
       "      <td>1010.6</td>\n",
       "      <td>1007.8</td>\n",
       "      <td>NaN</td>\n",
       "      <td>NaN</td>\n",
       "      <td>17.2</td>\n",
       "      <td>24.3</td>\n",
       "      <td>No</td>\n",
       "      <td>No</td>\n",
       "    </tr>\n",
       "    <tr>\n",
       "      <th>2</th>\n",
       "      <td>2008-12-03</td>\n",
       "      <td>Albury</td>\n",
       "      <td>12.9</td>\n",
       "      <td>25.7</td>\n",
       "      <td>0.0</td>\n",
       "      <td>NaN</td>\n",
       "      <td>NaN</td>\n",
       "      <td>WSW</td>\n",
       "      <td>46.0</td>\n",
       "      <td>W</td>\n",
       "      <td>...</td>\n",
       "      <td>38.0</td>\n",
       "      <td>30.0</td>\n",
       "      <td>1007.6</td>\n",
       "      <td>1008.7</td>\n",
       "      <td>NaN</td>\n",
       "      <td>2.0</td>\n",
       "      <td>21.0</td>\n",
       "      <td>23.2</td>\n",
       "      <td>No</td>\n",
       "      <td>No</td>\n",
       "    </tr>\n",
       "    <tr>\n",
       "      <th>3</th>\n",
       "      <td>2008-12-04</td>\n",
       "      <td>Albury</td>\n",
       "      <td>9.2</td>\n",
       "      <td>28.0</td>\n",
       "      <td>0.0</td>\n",
       "      <td>NaN</td>\n",
       "      <td>NaN</td>\n",
       "      <td>NE</td>\n",
       "      <td>24.0</td>\n",
       "      <td>SE</td>\n",
       "      <td>...</td>\n",
       "      <td>45.0</td>\n",
       "      <td>16.0</td>\n",
       "      <td>1017.6</td>\n",
       "      <td>1012.8</td>\n",
       "      <td>NaN</td>\n",
       "      <td>NaN</td>\n",
       "      <td>18.1</td>\n",
       "      <td>26.5</td>\n",
       "      <td>No</td>\n",
       "      <td>No</td>\n",
       "    </tr>\n",
       "    <tr>\n",
       "      <th>4</th>\n",
       "      <td>2008-12-05</td>\n",
       "      <td>Albury</td>\n",
       "      <td>17.5</td>\n",
       "      <td>32.3</td>\n",
       "      <td>1.0</td>\n",
       "      <td>NaN</td>\n",
       "      <td>NaN</td>\n",
       "      <td>W</td>\n",
       "      <td>41.0</td>\n",
       "      <td>ENE</td>\n",
       "      <td>...</td>\n",
       "      <td>82.0</td>\n",
       "      <td>33.0</td>\n",
       "      <td>1010.8</td>\n",
       "      <td>1006.0</td>\n",
       "      <td>7.0</td>\n",
       "      <td>8.0</td>\n",
       "      <td>17.8</td>\n",
       "      <td>29.7</td>\n",
       "      <td>No</td>\n",
       "      <td>No</td>\n",
       "    </tr>\n",
       "  </tbody>\n",
       "</table>\n",
       "<p>5 rows × 23 columns</p>\n",
       "</div>"
      ],
      "text/plain": [
       "         Date Location  MinTemp  MaxTemp  Rainfall  Evaporation  Sunshine  \\\n",
       "0  2008-12-01   Albury     13.4     22.9       0.6          NaN       NaN   \n",
       "1  2008-12-02   Albury      7.4     25.1       0.0          NaN       NaN   \n",
       "2  2008-12-03   Albury     12.9     25.7       0.0          NaN       NaN   \n",
       "3  2008-12-04   Albury      9.2     28.0       0.0          NaN       NaN   \n",
       "4  2008-12-05   Albury     17.5     32.3       1.0          NaN       NaN   \n",
       "\n",
       "  WindGustDir  WindGustSpeed WindDir9am  ... Humidity9am  Humidity3pm  \\\n",
       "0           W           44.0          W  ...        71.0         22.0   \n",
       "1         WNW           44.0        NNW  ...        44.0         25.0   \n",
       "2         WSW           46.0          W  ...        38.0         30.0   \n",
       "3          NE           24.0         SE  ...        45.0         16.0   \n",
       "4           W           41.0        ENE  ...        82.0         33.0   \n",
       "\n",
       "   Pressure9am  Pressure3pm  Cloud9am  Cloud3pm  Temp9am  Temp3pm  RainToday  \\\n",
       "0       1007.7       1007.1       8.0       NaN     16.9     21.8         No   \n",
       "1       1010.6       1007.8       NaN       NaN     17.2     24.3         No   \n",
       "2       1007.6       1008.7       NaN       2.0     21.0     23.2         No   \n",
       "3       1017.6       1012.8       NaN       NaN     18.1     26.5         No   \n",
       "4       1010.8       1006.0       7.0       8.0     17.8     29.7         No   \n",
       "\n",
       "   RainTomorrow  \n",
       "0            No  \n",
       "1            No  \n",
       "2            No  \n",
       "3            No  \n",
       "4            No  \n",
       "\n",
       "[5 rows x 23 columns]"
      ]
     },
     "execution_count": 4,
     "metadata": {},
     "output_type": "execute_result"
    }
   ],
   "source": [
    "data.head()"
   ]
  },
  {
   "cell_type": "markdown",
   "id": "d007a15d",
   "metadata": {},
   "source": [
    "## Preprocesamiento\n",
    "En esta seccion, vamos a proceder a limpiar el dataset"
   ]
  },
  {
   "cell_type": "code",
   "execution_count": 5,
   "id": "22586190",
   "metadata": {},
   "outputs": [
    {
     "data": {
      "text/plain": [
       "Index(['Date', 'Location', 'MinTemp', 'MaxTemp', 'Rainfall', 'Evaporation',\n",
       "       'Sunshine', 'WindGustDir', 'WindGustSpeed', 'WindDir9am', 'WindDir3pm',\n",
       "       'WindSpeed9am', 'WindSpeed3pm', 'Humidity9am', 'Humidity3pm',\n",
       "       'Pressure9am', 'Pressure3pm', 'Cloud9am', 'Cloud3pm', 'Temp9am',\n",
       "       'Temp3pm', 'RainToday', 'RainTomorrow'],\n",
       "      dtype='object')"
      ]
     },
     "execution_count": 5,
     "metadata": {},
     "output_type": "execute_result"
    }
   ],
   "source": [
    "data.columns"
   ]
  },
  {
   "cell_type": "code",
   "execution_count": 6,
   "id": "c21acd74",
   "metadata": {},
   "outputs": [
    {
     "data": {
      "text/plain": [
       "(145460, 23)"
      ]
     },
     "execution_count": 6,
     "metadata": {},
     "output_type": "execute_result"
    }
   ],
   "source": [
    "data.shape"
   ]
  },
  {
   "cell_type": "code",
   "execution_count": 7,
   "id": "338ba321",
   "metadata": {},
   "outputs": [
    {
     "data": {
      "text/html": [
       "<div>\n",
       "<style scoped>\n",
       "    .dataframe tbody tr th:only-of-type {\n",
       "        vertical-align: middle;\n",
       "    }\n",
       "\n",
       "    .dataframe tbody tr th {\n",
       "        vertical-align: top;\n",
       "    }\n",
       "\n",
       "    .dataframe thead th {\n",
       "        text-align: right;\n",
       "    }\n",
       "</style>\n",
       "<table border=\"1\" class=\"dataframe\">\n",
       "  <thead>\n",
       "    <tr style=\"text-align: right;\">\n",
       "      <th></th>\n",
       "      <th>MinTemp</th>\n",
       "      <th>MaxTemp</th>\n",
       "      <th>Rainfall</th>\n",
       "      <th>Evaporation</th>\n",
       "      <th>Sunshine</th>\n",
       "      <th>WindGustSpeed</th>\n",
       "      <th>WindSpeed9am</th>\n",
       "      <th>WindSpeed3pm</th>\n",
       "      <th>Humidity9am</th>\n",
       "      <th>Humidity3pm</th>\n",
       "      <th>Pressure9am</th>\n",
       "      <th>Pressure3pm</th>\n",
       "      <th>Cloud9am</th>\n",
       "      <th>Cloud3pm</th>\n",
       "      <th>Temp9am</th>\n",
       "      <th>Temp3pm</th>\n",
       "    </tr>\n",
       "  </thead>\n",
       "  <tbody>\n",
       "    <tr>\n",
       "      <th>count</th>\n",
       "      <td>143975.000000</td>\n",
       "      <td>144199.000000</td>\n",
       "      <td>142199.000000</td>\n",
       "      <td>82670.000000</td>\n",
       "      <td>75625.000000</td>\n",
       "      <td>135197.000000</td>\n",
       "      <td>143693.000000</td>\n",
       "      <td>142398.000000</td>\n",
       "      <td>142806.000000</td>\n",
       "      <td>140953.000000</td>\n",
       "      <td>130395.00000</td>\n",
       "      <td>130432.000000</td>\n",
       "      <td>89572.000000</td>\n",
       "      <td>86102.000000</td>\n",
       "      <td>143693.000000</td>\n",
       "      <td>141851.00000</td>\n",
       "    </tr>\n",
       "    <tr>\n",
       "      <th>mean</th>\n",
       "      <td>12.194034</td>\n",
       "      <td>23.221348</td>\n",
       "      <td>2.360918</td>\n",
       "      <td>5.468232</td>\n",
       "      <td>7.611178</td>\n",
       "      <td>40.035230</td>\n",
       "      <td>14.043426</td>\n",
       "      <td>18.662657</td>\n",
       "      <td>68.880831</td>\n",
       "      <td>51.539116</td>\n",
       "      <td>1017.64994</td>\n",
       "      <td>1015.255889</td>\n",
       "      <td>4.447461</td>\n",
       "      <td>4.509930</td>\n",
       "      <td>16.990631</td>\n",
       "      <td>21.68339</td>\n",
       "    </tr>\n",
       "    <tr>\n",
       "      <th>std</th>\n",
       "      <td>6.398495</td>\n",
       "      <td>7.119049</td>\n",
       "      <td>8.478060</td>\n",
       "      <td>4.193704</td>\n",
       "      <td>3.785483</td>\n",
       "      <td>13.607062</td>\n",
       "      <td>8.915375</td>\n",
       "      <td>8.809800</td>\n",
       "      <td>19.029164</td>\n",
       "      <td>20.795902</td>\n",
       "      <td>7.10653</td>\n",
       "      <td>7.037414</td>\n",
       "      <td>2.887159</td>\n",
       "      <td>2.720357</td>\n",
       "      <td>6.488753</td>\n",
       "      <td>6.93665</td>\n",
       "    </tr>\n",
       "    <tr>\n",
       "      <th>min</th>\n",
       "      <td>-8.500000</td>\n",
       "      <td>-4.800000</td>\n",
       "      <td>0.000000</td>\n",
       "      <td>0.000000</td>\n",
       "      <td>0.000000</td>\n",
       "      <td>6.000000</td>\n",
       "      <td>0.000000</td>\n",
       "      <td>0.000000</td>\n",
       "      <td>0.000000</td>\n",
       "      <td>0.000000</td>\n",
       "      <td>980.50000</td>\n",
       "      <td>977.100000</td>\n",
       "      <td>0.000000</td>\n",
       "      <td>0.000000</td>\n",
       "      <td>-7.200000</td>\n",
       "      <td>-5.40000</td>\n",
       "    </tr>\n",
       "    <tr>\n",
       "      <th>25%</th>\n",
       "      <td>7.600000</td>\n",
       "      <td>17.900000</td>\n",
       "      <td>0.000000</td>\n",
       "      <td>2.600000</td>\n",
       "      <td>4.800000</td>\n",
       "      <td>31.000000</td>\n",
       "      <td>7.000000</td>\n",
       "      <td>13.000000</td>\n",
       "      <td>57.000000</td>\n",
       "      <td>37.000000</td>\n",
       "      <td>1012.90000</td>\n",
       "      <td>1010.400000</td>\n",
       "      <td>1.000000</td>\n",
       "      <td>2.000000</td>\n",
       "      <td>12.300000</td>\n",
       "      <td>16.60000</td>\n",
       "    </tr>\n",
       "    <tr>\n",
       "      <th>50%</th>\n",
       "      <td>12.000000</td>\n",
       "      <td>22.600000</td>\n",
       "      <td>0.000000</td>\n",
       "      <td>4.800000</td>\n",
       "      <td>8.400000</td>\n",
       "      <td>39.000000</td>\n",
       "      <td>13.000000</td>\n",
       "      <td>19.000000</td>\n",
       "      <td>70.000000</td>\n",
       "      <td>52.000000</td>\n",
       "      <td>1017.60000</td>\n",
       "      <td>1015.200000</td>\n",
       "      <td>5.000000</td>\n",
       "      <td>5.000000</td>\n",
       "      <td>16.700000</td>\n",
       "      <td>21.10000</td>\n",
       "    </tr>\n",
       "    <tr>\n",
       "      <th>75%</th>\n",
       "      <td>16.900000</td>\n",
       "      <td>28.200000</td>\n",
       "      <td>0.800000</td>\n",
       "      <td>7.400000</td>\n",
       "      <td>10.600000</td>\n",
       "      <td>48.000000</td>\n",
       "      <td>19.000000</td>\n",
       "      <td>24.000000</td>\n",
       "      <td>83.000000</td>\n",
       "      <td>66.000000</td>\n",
       "      <td>1022.40000</td>\n",
       "      <td>1020.000000</td>\n",
       "      <td>7.000000</td>\n",
       "      <td>7.000000</td>\n",
       "      <td>21.600000</td>\n",
       "      <td>26.40000</td>\n",
       "    </tr>\n",
       "    <tr>\n",
       "      <th>max</th>\n",
       "      <td>33.900000</td>\n",
       "      <td>48.100000</td>\n",
       "      <td>371.000000</td>\n",
       "      <td>145.000000</td>\n",
       "      <td>14.500000</td>\n",
       "      <td>135.000000</td>\n",
       "      <td>130.000000</td>\n",
       "      <td>87.000000</td>\n",
       "      <td>100.000000</td>\n",
       "      <td>100.000000</td>\n",
       "      <td>1041.00000</td>\n",
       "      <td>1039.600000</td>\n",
       "      <td>9.000000</td>\n",
       "      <td>9.000000</td>\n",
       "      <td>40.200000</td>\n",
       "      <td>46.70000</td>\n",
       "    </tr>\n",
       "  </tbody>\n",
       "</table>\n",
       "</div>"
      ],
      "text/plain": [
       "             MinTemp        MaxTemp       Rainfall   Evaporation  \\\n",
       "count  143975.000000  144199.000000  142199.000000  82670.000000   \n",
       "mean       12.194034      23.221348       2.360918      5.468232   \n",
       "std         6.398495       7.119049       8.478060      4.193704   \n",
       "min        -8.500000      -4.800000       0.000000      0.000000   \n",
       "25%         7.600000      17.900000       0.000000      2.600000   \n",
       "50%        12.000000      22.600000       0.000000      4.800000   \n",
       "75%        16.900000      28.200000       0.800000      7.400000   \n",
       "max        33.900000      48.100000     371.000000    145.000000   \n",
       "\n",
       "           Sunshine  WindGustSpeed   WindSpeed9am   WindSpeed3pm  \\\n",
       "count  75625.000000  135197.000000  143693.000000  142398.000000   \n",
       "mean       7.611178      40.035230      14.043426      18.662657   \n",
       "std        3.785483      13.607062       8.915375       8.809800   \n",
       "min        0.000000       6.000000       0.000000       0.000000   \n",
       "25%        4.800000      31.000000       7.000000      13.000000   \n",
       "50%        8.400000      39.000000      13.000000      19.000000   \n",
       "75%       10.600000      48.000000      19.000000      24.000000   \n",
       "max       14.500000     135.000000     130.000000      87.000000   \n",
       "\n",
       "         Humidity9am    Humidity3pm   Pressure9am    Pressure3pm  \\\n",
       "count  142806.000000  140953.000000  130395.00000  130432.000000   \n",
       "mean       68.880831      51.539116    1017.64994    1015.255889   \n",
       "std        19.029164      20.795902       7.10653       7.037414   \n",
       "min         0.000000       0.000000     980.50000     977.100000   \n",
       "25%        57.000000      37.000000    1012.90000    1010.400000   \n",
       "50%        70.000000      52.000000    1017.60000    1015.200000   \n",
       "75%        83.000000      66.000000    1022.40000    1020.000000   \n",
       "max       100.000000     100.000000    1041.00000    1039.600000   \n",
       "\n",
       "           Cloud9am      Cloud3pm        Temp9am       Temp3pm  \n",
       "count  89572.000000  86102.000000  143693.000000  141851.00000  \n",
       "mean       4.447461      4.509930      16.990631      21.68339  \n",
       "std        2.887159      2.720357       6.488753       6.93665  \n",
       "min        0.000000      0.000000      -7.200000      -5.40000  \n",
       "25%        1.000000      2.000000      12.300000      16.60000  \n",
       "50%        5.000000      5.000000      16.700000      21.10000  \n",
       "75%        7.000000      7.000000      21.600000      26.40000  \n",
       "max        9.000000      9.000000      40.200000      46.70000  "
      ]
     },
     "execution_count": 7,
     "metadata": {},
     "output_type": "execute_result"
    }
   ],
   "source": [
    "data.describe()"
   ]
  },
  {
   "cell_type": "markdown",
   "id": "c5e553b9",
   "metadata": {},
   "source": [
    "#### Se verifican los datos nulos"
   ]
  },
  {
   "cell_type": "code",
   "execution_count": 8,
   "id": "922cee42",
   "metadata": {},
   "outputs": [
    {
     "data": {
      "text/plain": [
       "Date             3436\n",
       "Location           49\n",
       "MinTemp           389\n",
       "MaxTemp           505\n",
       "Rainfall          681\n",
       "Evaporation       358\n",
       "Sunshine          145\n",
       "WindGustDir        16\n",
       "WindGustSpeed      67\n",
       "WindDir9am         16\n",
       "WindDir3pm         16\n",
       "WindSpeed9am       43\n",
       "WindSpeed3pm       44\n",
       "Humidity9am       101\n",
       "Humidity3pm       101\n",
       "Pressure9am       546\n",
       "Pressure3pm       549\n",
       "Cloud9am           10\n",
       "Cloud3pm           10\n",
       "Temp9am           441\n",
       "Temp3pm           502\n",
       "RainToday           2\n",
       "RainTomorrow        2\n",
       "dtype: int64"
      ]
     },
     "execution_count": 8,
     "metadata": {},
     "output_type": "execute_result"
    }
   ],
   "source": [
    "data.nunique()"
   ]
  },
  {
   "cell_type": "markdown",
   "id": "9da88c2f",
   "metadata": {},
   "source": [
    "#### Se borran los datos nulos"
   ]
  },
  {
   "cell_type": "code",
   "execution_count": 9,
   "id": "8faa4782",
   "metadata": {},
   "outputs": [],
   "source": [
    "data = data.dropna()"
   ]
  },
  {
   "cell_type": "code",
   "execution_count": 10,
   "id": "7ed8e71f",
   "metadata": {},
   "outputs": [
    {
     "data": {
      "text/plain": [
       "(56420, 23)"
      ]
     },
     "execution_count": 10,
     "metadata": {},
     "output_type": "execute_result"
    }
   ],
   "source": [
    "data.shape"
   ]
  },
  {
   "cell_type": "code",
   "execution_count": 11,
   "id": "551a213a",
   "metadata": {},
   "outputs": [
    {
     "data": {
      "text/plain": [
       "Date             0\n",
       "Location         0\n",
       "MinTemp          0\n",
       "MaxTemp          0\n",
       "Rainfall         0\n",
       "Evaporation      0\n",
       "Sunshine         0\n",
       "WindGustDir      0\n",
       "WindGustSpeed    0\n",
       "WindDir9am       0\n",
       "WindDir3pm       0\n",
       "WindSpeed9am     0\n",
       "WindSpeed3pm     0\n",
       "Humidity9am      0\n",
       "Humidity3pm      0\n",
       "Pressure9am      0\n",
       "Pressure3pm      0\n",
       "Cloud9am         0\n",
       "Cloud3pm         0\n",
       "Temp9am          0\n",
       "Temp3pm          0\n",
       "RainToday        0\n",
       "RainTomorrow     0\n",
       "dtype: int64"
      ]
     },
     "execution_count": 11,
     "metadata": {},
     "output_type": "execute_result"
    }
   ],
   "source": [
    "data.isnull().sum()"
   ]
  },
  {
   "cell_type": "markdown",
   "id": "8ec88141",
   "metadata": {},
   "source": [
    "#### Se verifica que exista representatividad para cada tipo (llueve o no llueve) "
   ]
  },
  {
   "cell_type": "code",
   "execution_count": 12,
   "id": "df8d5603",
   "metadata": {},
   "outputs": [
    {
     "data": {
      "text/plain": [
       "No     43993\n",
       "Yes    12427\n",
       "Name: RainTomorrow, dtype: int64"
      ]
     },
     "execution_count": 12,
     "metadata": {},
     "output_type": "execute_result"
    }
   ],
   "source": [
    "data.head()\n",
    "data.RainTomorrow.value_counts()"
   ]
  },
  {
   "cell_type": "code",
   "execution_count": 13,
   "id": "d75e3ef7",
   "metadata": {},
   "outputs": [
    {
     "data": {
      "text/plain": [
       "(56420, 23)"
      ]
     },
     "execution_count": 13,
     "metadata": {},
     "output_type": "execute_result"
    }
   ],
   "source": [
    "data.shape"
   ]
  },
  {
   "cell_type": "code",
   "execution_count": 14,
   "id": "6987cf36",
   "metadata": {},
   "outputs": [
    {
     "data": {
      "text/html": [
       "<div>\n",
       "<style scoped>\n",
       "    .dataframe tbody tr th:only-of-type {\n",
       "        vertical-align: middle;\n",
       "    }\n",
       "\n",
       "    .dataframe tbody tr th {\n",
       "        vertical-align: top;\n",
       "    }\n",
       "\n",
       "    .dataframe thead th {\n",
       "        text-align: right;\n",
       "    }\n",
       "</style>\n",
       "<table border=\"1\" class=\"dataframe\">\n",
       "  <thead>\n",
       "    <tr style=\"text-align: right;\">\n",
       "      <th></th>\n",
       "      <th>MinTemp</th>\n",
       "      <th>MaxTemp</th>\n",
       "      <th>Evaporation</th>\n",
       "      <th>Sunshine</th>\n",
       "      <th>WindGustSpeed</th>\n",
       "      <th>WindSpeed9am</th>\n",
       "      <th>WindSpeed3pm</th>\n",
       "      <th>Humidity9am</th>\n",
       "      <th>Humidity3pm</th>\n",
       "      <th>Pressure9am</th>\n",
       "      <th>Pressure3pm</th>\n",
       "      <th>Cloud9am</th>\n",
       "      <th>Cloud3pm</th>\n",
       "      <th>Temp9am</th>\n",
       "      <th>Temp3pm</th>\n",
       "    </tr>\n",
       "  </thead>\n",
       "  <tbody>\n",
       "    <tr>\n",
       "      <th>6049</th>\n",
       "      <td>17.9</td>\n",
       "      <td>35.2</td>\n",
       "      <td>12.0</td>\n",
       "      <td>12.3</td>\n",
       "      <td>48.0</td>\n",
       "      <td>6.0</td>\n",
       "      <td>20.0</td>\n",
       "      <td>20.0</td>\n",
       "      <td>13.0</td>\n",
       "      <td>1006.3</td>\n",
       "      <td>1004.4</td>\n",
       "      <td>2.0</td>\n",
       "      <td>5.0</td>\n",
       "      <td>26.6</td>\n",
       "      <td>33.4</td>\n",
       "    </tr>\n",
       "    <tr>\n",
       "      <th>6050</th>\n",
       "      <td>18.4</td>\n",
       "      <td>28.9</td>\n",
       "      <td>14.8</td>\n",
       "      <td>13.0</td>\n",
       "      <td>37.0</td>\n",
       "      <td>19.0</td>\n",
       "      <td>19.0</td>\n",
       "      <td>30.0</td>\n",
       "      <td>8.0</td>\n",
       "      <td>1012.9</td>\n",
       "      <td>1012.1</td>\n",
       "      <td>1.0</td>\n",
       "      <td>1.0</td>\n",
       "      <td>20.3</td>\n",
       "      <td>27.0</td>\n",
       "    </tr>\n",
       "    <tr>\n",
       "      <th>6052</th>\n",
       "      <td>19.4</td>\n",
       "      <td>37.6</td>\n",
       "      <td>10.8</td>\n",
       "      <td>10.6</td>\n",
       "      <td>46.0</td>\n",
       "      <td>30.0</td>\n",
       "      <td>15.0</td>\n",
       "      <td>42.0</td>\n",
       "      <td>22.0</td>\n",
       "      <td>1012.3</td>\n",
       "      <td>1009.2</td>\n",
       "      <td>1.0</td>\n",
       "      <td>6.0</td>\n",
       "      <td>28.7</td>\n",
       "      <td>34.9</td>\n",
       "    </tr>\n",
       "    <tr>\n",
       "      <th>6053</th>\n",
       "      <td>21.9</td>\n",
       "      <td>38.4</td>\n",
       "      <td>11.4</td>\n",
       "      <td>12.2</td>\n",
       "      <td>31.0</td>\n",
       "      <td>6.0</td>\n",
       "      <td>6.0</td>\n",
       "      <td>37.0</td>\n",
       "      <td>22.0</td>\n",
       "      <td>1012.7</td>\n",
       "      <td>1009.1</td>\n",
       "      <td>1.0</td>\n",
       "      <td>5.0</td>\n",
       "      <td>29.1</td>\n",
       "      <td>35.6</td>\n",
       "    </tr>\n",
       "    <tr>\n",
       "      <th>6054</th>\n",
       "      <td>24.2</td>\n",
       "      <td>41.0</td>\n",
       "      <td>11.2</td>\n",
       "      <td>8.4</td>\n",
       "      <td>35.0</td>\n",
       "      <td>17.0</td>\n",
       "      <td>13.0</td>\n",
       "      <td>19.0</td>\n",
       "      <td>15.0</td>\n",
       "      <td>1010.7</td>\n",
       "      <td>1007.4</td>\n",
       "      <td>1.0</td>\n",
       "      <td>6.0</td>\n",
       "      <td>33.6</td>\n",
       "      <td>37.6</td>\n",
       "    </tr>\n",
       "  </tbody>\n",
       "</table>\n",
       "</div>"
      ],
      "text/plain": [
       "      MinTemp  MaxTemp  Evaporation  Sunshine  WindGustSpeed  WindSpeed9am  \\\n",
       "6049     17.9     35.2         12.0      12.3           48.0           6.0   \n",
       "6050     18.4     28.9         14.8      13.0           37.0          19.0   \n",
       "6052     19.4     37.6         10.8      10.6           46.0          30.0   \n",
       "6053     21.9     38.4         11.4      12.2           31.0           6.0   \n",
       "6054     24.2     41.0         11.2       8.4           35.0          17.0   \n",
       "\n",
       "      WindSpeed3pm  Humidity9am  Humidity3pm  Pressure9am  Pressure3pm  \\\n",
       "6049          20.0         20.0         13.0       1006.3       1004.4   \n",
       "6050          19.0         30.0          8.0       1012.9       1012.1   \n",
       "6052          15.0         42.0         22.0       1012.3       1009.2   \n",
       "6053           6.0         37.0         22.0       1012.7       1009.1   \n",
       "6054          13.0         19.0         15.0       1010.7       1007.4   \n",
       "\n",
       "      Cloud9am  Cloud3pm  Temp9am  Temp3pm  \n",
       "6049       2.0       5.0     26.6     33.4  \n",
       "6050       1.0       1.0     20.3     27.0  \n",
       "6052       1.0       6.0     28.7     34.9  \n",
       "6053       1.0       5.0     29.1     35.6  \n",
       "6054       1.0       6.0     33.6     37.6  "
      ]
     },
     "execution_count": 14,
     "metadata": {},
     "output_type": "execute_result"
    }
   ],
   "source": [
    "y = data.RainTomorrow\n",
    "x = data.drop(['Date','RainToday', 'Location',  'WindGustDir', 'WindDir9am','RainTomorrow', 'WindDir3pm', 'Rainfall'], axis=1)\n",
    "\n",
    "x.head()"
   ]
  },
  {
   "cell_type": "code",
   "execution_count": 15,
   "id": "68bfecc5",
   "metadata": {},
   "outputs": [
    {
     "data": {
      "text/plain": [
       "(56420, 15)"
      ]
     },
     "execution_count": 15,
     "metadata": {},
     "output_type": "execute_result"
    }
   ],
   "source": [
    "x.shape"
   ]
  },
  {
   "cell_type": "markdown",
   "id": "6891ff2b",
   "metadata": {},
   "source": [
    "# Reducción  de dimensionalidad con PCA\n",
    "\n",
    "### Primero escalamos el dataset"
   ]
  },
  {
   "cell_type": "code",
   "execution_count": 16,
   "id": "d5c79136",
   "metadata": {},
   "outputs": [
    {
     "data": {
      "text/plain": [
       "StandardScaler()"
      ]
     },
     "execution_count": 16,
     "metadata": {},
     "output_type": "execute_result"
    }
   ],
   "source": [
    "from sklearn.preprocessing import StandardScaler\n",
    "scaler = StandardScaler()\n",
    "scaler.fit(x)"
   ]
  },
  {
   "cell_type": "code",
   "execution_count": 17,
   "id": "6f4798f3",
   "metadata": {},
   "outputs": [
    {
     "name": "stdout",
     "output_type": "stream",
     "text": [
      "[[ 0.69120848  1.57529783  1.75769102 ...  0.25441126  1.27818584\n",
      "   1.56362087]\n",
      " [ 0.76913098  0.67150378  2.51521564 ... -1.25660337  0.31897996\n",
      "   0.62746694]\n",
      " [ 0.92497598  1.91960032  1.43303762 ...  0.63216492  1.59792114\n",
      "   1.78303195]\n",
      " ...\n",
      " [ 1.12757448  1.23099533  0.02620618 ... -1.63435703  1.00412702\n",
      "   1.37346461]\n",
      " [ 0.94056048  1.08753596  0.18853289 ... -1.25660337  1.00412702\n",
      "   0.94926986]\n",
      " [ 1.04965198  1.07319002  0.02620618 ...  0.25441126  1.09547996\n",
      "   1.21256315]]\n"
     ]
    }
   ],
   "source": [
    "scaled_data=scaler.transform(x)\n",
    "print(scaled_data)"
   ]
  },
  {
   "cell_type": "markdown",
   "id": "199bd23f",
   "metadata": {},
   "source": [
    "### Luego aplicamos PCA\n",
    "\n",
    "Buscamos que tenga la cantidad mínima  de features, con un 95% de varianza."
   ]
  },
  {
   "cell_type": "code",
   "execution_count": 18,
   "id": "83341000",
   "metadata": {},
   "outputs": [],
   "source": [
    "from sklearn.decomposition import PCA\n",
    "#pca=PCA(n_components=2)\n",
    "\n",
    "pca=PCA(.95)\n",
    "principalComponents = pca.fit(scaled_data)\n",
    "pca_x = pca.transform(scaled_data)"
   ]
  },
  {
   "cell_type": "code",
   "execution_count": 19,
   "id": "3b9d9c00",
   "metadata": {},
   "outputs": [
    {
     "data": {
      "text/plain": [
       "(56420, 9)"
      ]
     },
     "execution_count": 19,
     "metadata": {},
     "output_type": "execute_result"
    }
   ],
   "source": [
    "x = pca_x\n",
    "x.shape"
   ]
  },
  {
   "cell_type": "code",
   "execution_count": 20,
   "id": "5f18f8ea",
   "metadata": {},
   "outputs": [],
   "source": [
    "from sklearn.model_selection import train_test_split\n",
    "train_x, test_x, train_y, test_y = train_test_split(x, y, test_size= 0.2)"
   ]
  },
  {
   "cell_type": "code",
   "execution_count": 21,
   "id": "16d45173",
   "metadata": {},
   "outputs": [
    {
     "name": "stdout",
     "output_type": "stream",
     "text": [
      "(45136, 9)\n",
      "(45136,)\n"
     ]
    }
   ],
   "source": [
    "print(train_x.shape)\n",
    "\n",
    "print(train_y.shape)"
   ]
  },
  {
   "cell_type": "markdown",
   "id": "83a5f908",
   "metadata": {},
   "source": [
    "# Neural Network"
   ]
  },
  {
   "cell_type": "markdown",
   "id": "0d070aad",
   "metadata": {},
   "source": [
    "# Red neuronal compleja\n",
    "Primero realizamos una red neuronal más compleja; con varias capas ocultas y distintas cantidades de neuronas. \n",
    "La capa de entrada, contiene 9 neuronas,una por cada parámetro. \n",
    "\n",
    "Para la cantidad de neuronas en las capas ocultas usamos una regla del pulgar, que es la siguiente\n",
    "$$ N_h=\\dfrac{N_s}{\\alpha \\cdot (N_i+N_o)}$$\n",
    "\n",
    "En la que \n",
    "* $N_i =$ Número de neuronas en la capa de entrada (9)\n",
    "* $N_o =$ Número de neuronas en la capa de salida (1)\n",
    "* $N_s =$ Número de muestras en el _training_set_ (45136)\n",
    "* $\\alpha =$ Factor de escala arbitrario, usualmente entre 2-10 (5)\n",
    "\n",
    "En este caso tenemos 9 neuronas de entrada, por cada _feature_, una neurona de salida. Nuestro _training_set_ se compone de 45136 datos, y para el $\\alpha$ elegí el valor más alto; 10, para evitar la menor cantidad de neuronas.  \n",
    "\n",
    "$$ N_h=\\dfrac{N_s}{\\alpha \\cdot (N_i+N_o)} = \\dfrac{45136}{10 \\cdot (9+1)}= 451.36$$\n",
    "\n",
    "Por efectos de recursos computacionales usaré otra regla, dado que 451 neuronas es una cantidad muy grande para mi computadora. \n",
    "En cambio usare una regla que establece que que la cantidad de neuronas debe ser menor que el doble de las neuronas en la capa de entrada. Por lo que debe ser menor a 18 neuronas, en mi caso selecciones 10 neuronas\n",
    "\n"
   ]
  },
  {
   "cell_type": "markdown",
   "id": "36e5ec58",
   "metadata": {},
   "source": [
    "## Prueba de parámetros\n",
    "\n",
    "## Batch size y epochs\n",
    "\n",
    "En esta sección estaremos probando con distintas cantidades de batch y epochs, para averiguar cual es la que tiene mejores resultados.\n"
   ]
  },
  {
   "cell_type": "code",
   "execution_count": 22,
   "id": "91f121f9",
   "metadata": {},
   "outputs": [],
   "source": [
    "# Function to create model,for KerasClassifier\n",
    "def create_complex_model():\n",
    "    #defining my model\n",
    "    mymodel = Sequential()\n",
    "    mymodel.add(Dense(9, input_dim=9, activation='relu'))\n",
    "    mymodel.add(Dense(27, activation='relu'))\n",
    "    mymodel.add(Dense(12, activation='relu'))\n",
    "    mymodel.add(Dense(1, activation='sigmoid'))\n",
    "    \n",
    "    # Compile the model\n",
    "    mymodel.compile(loss='binary_crossentropy', optimizer='adam', metrics=['accuracy'])\n",
    "    return mymodel"
   ]
  },
  {
   "cell_type": "code",
   "execution_count": 83,
   "id": "a58d6045",
   "metadata": {},
   "outputs": [],
   "source": [
    "# create model\n",
    "model = KerasClassifier(build_fn=create_complex_model)"
   ]
  },
  {
   "cell_type": "markdown",
   "id": "6cb4ef6f",
   "metadata": {},
   "source": [
    "### Parameters\n",
    "En esta parte vamos a probar la cantidad óptima de _epochs_ y _batch_. \n",
    "* batch_size, determina la cantidad de muestras que pasan por la red en un _epoch_\n",
    "* epochs, la cantidad de veces que pasan datos por la red.\n",
    "\n"
   ]
  },
  {
   "cell_type": "code",
   "execution_count": 23,
   "id": "fec4f2f2",
   "metadata": {},
   "outputs": [],
   "source": [
    "# define the grid search parameters\n",
    "batchSize = [10, 50,  100]\n",
    "epochs = [10, 30, 50]\n",
    "grid = dict(batch_size=batchSize, epochs=epochs)"
   ]
  },
  {
   "cell_type": "markdown",
   "id": "c95db25b",
   "metadata": {},
   "source": [
    "### Tuning Hyperparameters\n",
    "\n",
    " Se ejecuta la combinación de cada parámetro en un stratified cross validation, con el objetivo de evitar algún sesgo producido por la distribución de los parámetros.\n"
   ]
  },
  {
   "cell_type": "code",
   "execution_count": 24,
   "id": "744968b6",
   "metadata": {},
   "outputs": [
    {
     "name": "stdout",
     "output_type": "stream",
     "text": [
      "Epoch 1/50\n",
      "4514/4514 [==============================] - 4s 743us/step - loss: 0.3728 - accuracy: 0.8335\n",
      "Epoch 2/50\n",
      "4514/4514 [==============================] - 3s 734us/step - loss: 0.3543 - accuracy: 0.8433\n",
      "Epoch 3/50\n",
      "4514/4514 [==============================] - 3s 734us/step - loss: 0.3516 - accuracy: 0.8445\n",
      "Epoch 4/50\n",
      "4514/4514 [==============================] - 3s 731us/step - loss: 0.3504 - accuracy: 0.8457\n",
      "Epoch 5/50\n",
      "4514/4514 [==============================] - 3s 714us/step - loss: 0.3493 - accuracy: 0.8450\n",
      "Epoch 6/50\n",
      "4514/4514 [==============================] - 3s 747us/step - loss: 0.3487 - accuracy: 0.8449\n",
      "Epoch 7/50\n",
      "4514/4514 [==============================] - 4s 796us/step - loss: 0.3480 - accuracy: 0.8464\n",
      "Epoch 8/50\n",
      "4514/4514 [==============================] - 3s 748us/step - loss: 0.3475 - accuracy: 0.8459\n",
      "Epoch 9/50\n",
      "4514/4514 [==============================] - 3s 738us/step - loss: 0.3470 - accuracy: 0.8468\n",
      "Epoch 10/50\n",
      "4514/4514 [==============================] - 3s 750us/step - loss: 0.3463 - accuracy: 0.8473\n",
      "Epoch 11/50\n",
      "4514/4514 [==============================] - 3s 739us/step - loss: 0.3460 - accuracy: 0.8471\n",
      "Epoch 12/50\n",
      "4514/4514 [==============================] - 3s 767us/step - loss: 0.3452 - accuracy: 0.8459\n",
      "Epoch 13/50\n",
      "4514/4514 [==============================] - 3s 773us/step - loss: 0.3453 - accuracy: 0.8472\n",
      "Epoch 14/50\n",
      "4514/4514 [==============================] - 3s 756us/step - loss: 0.3447 - accuracy: 0.8472\n",
      "Epoch 15/50\n",
      "4514/4514 [==============================] - 4s 819us/step - loss: 0.3444 - accuracy: 0.8475\n",
      "Epoch 16/50\n",
      "4514/4514 [==============================] - 3s 752us/step - loss: 0.3436 - accuracy: 0.8476\n",
      "Epoch 17/50\n",
      "4514/4514 [==============================] - 3s 726us/step - loss: 0.3434 - accuracy: 0.8476\n",
      "Epoch 18/50\n",
      "4514/4514 [==============================] - 3s 684us/step - loss: 0.3433 - accuracy: 0.8479\n",
      "Epoch 19/50\n",
      "4514/4514 [==============================] - 3s 666us/step - loss: 0.3428 - accuracy: 0.8476\n",
      "Epoch 20/50\n",
      "4514/4514 [==============================] - 3s 664us/step - loss: 0.3424 - accuracy: 0.8472\n",
      "Epoch 21/50\n",
      "4514/4514 [==============================] - 3s 663us/step - loss: 0.3425 - accuracy: 0.8470\n",
      "Epoch 22/50\n",
      "4514/4514 [==============================] - 3s 736us/step - loss: 0.3423 - accuracy: 0.8475\n",
      "Epoch 23/50\n",
      "4514/4514 [==============================] - 3s 681us/step - loss: 0.3419 - accuracy: 0.8475\n",
      "Epoch 24/50\n",
      "4514/4514 [==============================] - 3s 663us/step - loss: 0.3419 - accuracy: 0.8495\n",
      "Epoch 25/50\n",
      "4514/4514 [==============================] - 5s 1ms/step - loss: 0.3417 - accuracy: 0.8485\n",
      "Epoch 26/50\n",
      "4514/4514 [==============================] - 3s 663us/step - loss: 0.3415 - accuracy: 0.8485\n",
      "Epoch 27/50\n",
      "4514/4514 [==============================] - 3s 665us/step - loss: 0.3411 - accuracy: 0.8487\n",
      "Epoch 28/50\n",
      "4514/4514 [==============================] - 3s 665us/step - loss: 0.3408 - accuracy: 0.8481\n",
      "Epoch 29/50\n",
      "4514/4514 [==============================] - 3s 662us/step - loss: 0.3405 - accuracy: 0.8489\n",
      "Epoch 30/50\n",
      "4514/4514 [==============================] - 3s 660us/step - loss: 0.3404 - accuracy: 0.8495\n",
      "Epoch 31/50\n",
      "4514/4514 [==============================] - 3s 675us/step - loss: 0.3406 - accuracy: 0.8484\n",
      "Epoch 32/50\n",
      "4514/4514 [==============================] - 3s 663us/step - loss: 0.3403 - accuracy: 0.8487\n",
      "Epoch 33/50\n",
      "4514/4514 [==============================] - 3s 661us/step - loss: 0.3399 - accuracy: 0.8487\n",
      "Epoch 34/50\n",
      "4514/4514 [==============================] - 3s 661us/step - loss: 0.3403 - accuracy: 0.8494\n",
      "Epoch 35/50\n",
      "4514/4514 [==============================] - 3s 662us/step - loss: 0.3396 - accuracy: 0.8489\n",
      "Epoch 36/50\n",
      "4514/4514 [==============================] - 3s 659us/step - loss: 0.3398 - accuracy: 0.8484\n",
      "Epoch 37/50\n",
      "4514/4514 [==============================] - 3s 658us/step - loss: 0.3399 - accuracy: 0.8481\n",
      "Epoch 38/50\n",
      "4514/4514 [==============================] - 3s 659us/step - loss: 0.3397 - accuracy: 0.8488\n",
      "Epoch 39/50\n",
      "4514/4514 [==============================] - 3s 660us/step - loss: 0.3394 - accuracy: 0.8489\n",
      "Epoch 40/50\n",
      "4514/4514 [==============================] - 3s 658us/step - loss: 0.3392 - accuracy: 0.8498\n",
      "Epoch 41/50\n",
      "4514/4514 [==============================] - 3s 663us/step - loss: 0.3388 - accuracy: 0.8503\n",
      "Epoch 42/50\n",
      "4514/4514 [==============================] - 3s 660us/step - loss: 0.3390 - accuracy: 0.8497\n",
      "Epoch 43/50\n",
      "4514/4514 [==============================] - 3s 659us/step - loss: 0.3385 - accuracy: 0.8491\n",
      "Epoch 44/50\n",
      "4514/4514 [==============================] - 3s 658us/step - loss: 0.3384 - accuracy: 0.8503\n",
      "Epoch 45/50\n",
      "4514/4514 [==============================] - 3s 712us/step - loss: 0.3387 - accuracy: 0.8494\n",
      "Epoch 46/50\n",
      "4514/4514 [==============================] - 3s 657us/step - loss: 0.3382 - accuracy: 0.8505\n",
      "Epoch 47/50\n",
      "4514/4514 [==============================] - 3s 658us/step - loss: 0.3385 - accuracy: 0.8497\n",
      "Epoch 48/50\n",
      "4514/4514 [==============================] - 3s 659us/step - loss: 0.3381 - accuracy: 0.8510\n",
      "Epoch 49/50\n",
      "4514/4514 [==============================] - 3s 672us/step - loss: 0.3383 - accuracy: 0.8497\n",
      "Epoch 50/50\n",
      "4514/4514 [==============================] - 3s 659us/step - loss: 0.3377 - accuracy: 0.8492\n"
     ]
    }
   ],
   "source": [
    "cv = RepeatedStratifiedKFold(n_splits=10, n_repeats=3, random_state=1)\n",
    "grid_search = GridSearchCV(estimator=model, param_grid=grid, n_jobs=-1, cv=cv, scoring='accuracy',error_score=0)\n",
    "grid_result = grid_search.fit(train_x, train_y)"
   ]
  },
  {
   "cell_type": "markdown",
   "id": "9d68be89",
   "metadata": {},
   "source": [
    "### Best Hyperparameters\n",
    "\n",
    "Imprimimos la combinación de los parámetros y sus resultados, obtenemos la mejor combinación de estos para obtener el mejor resultado."
   ]
  },
  {
   "cell_type": "code",
   "execution_count": 25,
   "id": "a2bee74c",
   "metadata": {},
   "outputs": [
    {
     "name": "stdout",
     "output_type": "stream",
     "text": [
      "Best: 0.845452 using {'batch_size': 10, 'epochs': 50}\n",
      "0.845445 (0.003797) with: {'batch_size': 10, 'epochs': 10}\n",
      "0.845053 (0.003869) with: {'batch_size': 10, 'epochs': 30}\n",
      "0.845452 (0.003698) with: {'batch_size': 10, 'epochs': 50}\n",
      "0.845186 (0.003681) with: {'batch_size': 50, 'epochs': 10}\n",
      "0.845437 (0.003508) with: {'batch_size': 50, 'epochs': 30}\n",
      "0.844455 (0.004745) with: {'batch_size': 50, 'epochs': 50}\n",
      "0.843547 (0.004155) with: {'batch_size': 100, 'epochs': 10}\n",
      "0.844943 (0.004349) with: {'batch_size': 100, 'epochs': 30}\n",
      "0.844647 (0.003810) with: {'batch_size': 100, 'epochs': 50}\n"
     ]
    }
   ],
   "source": [
    "print(\"Best: %f using %s\" % (grid_result.best_score_, grid_result.best_params_))\n",
    "means = grid_result.cv_results_['mean_test_score']\n",
    "stds = grid_result.cv_results_['std_test_score']\n",
    "params = grid_result.cv_results_['params']\n",
    "for mean, stdev, param in zip(means, stds, params):\n",
    "    print(\"%f (%f) with: %r\" % (mean, stdev, param))"
   ]
  },
  {
   "cell_type": "markdown",
   "id": "467055a9",
   "metadata": {},
   "source": [
    "Como se puede observar la precision, alterando epocas y batch_size no cambia de manera significativa. Sin embargo podemos ver que la que obtuvo mejor precision du la de 50 epocs con un batch size de 10."
   ]
  },
  {
   "cell_type": "code",
   "execution_count": 23,
   "id": "63f39dd8",
   "metadata": {},
   "outputs": [],
   "source": [
    "batch_model = KerasClassifier(build_fn=create_complex_model, epochs=50, batch_size=10, verbose=0)\n"
   ]
  },
  {
   "cell_type": "markdown",
   "id": "00f5f8b7",
   "metadata": {},
   "source": [
    "### Resultados con los mejores parámetros\n",
    "\n",
    "Para evitar que haya algún tipo de sesgo en los datos se realizaron pruebas "
   ]
  },
  {
   "cell_type": "code",
   "execution_count": 24,
   "id": "3e137c89",
   "metadata": {},
   "outputs": [
    {
     "name": "stdout",
     "output_type": "stream",
     "text": [
      "Epoch 1/50\n",
      "4514/4514 [==============================] - 4s 712us/step - loss: 0.3645 - accuracy: 0.8397\n",
      "Epoch 2/50\n",
      "4514/4514 [==============================] - 3s 726us/step - loss: 0.3514 - accuracy: 0.8445\n",
      "Epoch 3/50\n",
      "4514/4514 [==============================] - 4s 829us/step - loss: 0.3496 - accuracy: 0.8452\n",
      "Epoch 4/50\n",
      "4514/4514 [==============================] - 3s 684us/step - loss: 0.3481 - accuracy: 0.8453\n",
      "Epoch 5/50\n",
      "4514/4514 [==============================] - 3s 678us/step - loss: 0.3472 - accuracy: 0.8460\n",
      "Epoch 6/50\n",
      "4514/4514 [==============================] - 3s 678us/step - loss: 0.3464 - accuracy: 0.8464\n",
      "Epoch 7/50\n",
      "4514/4514 [==============================] - 3s 679us/step - loss: 0.3460 - accuracy: 0.8463\n",
      "Epoch 8/50\n",
      "4514/4514 [==============================] - 3s 681us/step - loss: 0.3452 - accuracy: 0.8454\n",
      "Epoch 9/50\n",
      "4514/4514 [==============================] - 3s 684us/step - loss: 0.3448 - accuracy: 0.8472\n",
      "Epoch 10/50\n",
      "4514/4514 [==============================] - 3s 678us/step - loss: 0.3442 - accuracy: 0.8476\n",
      "Epoch 11/50\n",
      "4514/4514 [==============================] - 3s 676us/step - loss: 0.3438 - accuracy: 0.8461\n",
      "Epoch 12/50\n",
      "4514/4514 [==============================] - 3s 675us/step - loss: 0.3433 - accuracy: 0.8476\n",
      "Epoch 13/50\n",
      "4514/4514 [==============================] - 3s 674us/step - loss: 0.3431 - accuracy: 0.8472\n",
      "Epoch 14/50\n",
      "4514/4514 [==============================] - 3s 681us/step - loss: 0.3423 - accuracy: 0.8486\n",
      "Epoch 15/50\n",
      "4514/4514 [==============================] - 3s 680us/step - loss: 0.3420 - accuracy: 0.8489\n",
      "Epoch 16/50\n",
      "4514/4514 [==============================] - 3s 753us/step - loss: 0.3420 - accuracy: 0.8481\n",
      "Epoch 17/50\n",
      "4514/4514 [==============================] - 3s 689us/step - loss: 0.3416 - accuracy: 0.8489\n",
      "Epoch 18/50\n",
      "4514/4514 [==============================] - 3s 674us/step - loss: 0.3412 - accuracy: 0.8486\n",
      "Epoch 19/50\n",
      "4514/4514 [==============================] - 3s 675us/step - loss: 0.3414 - accuracy: 0.8482\n",
      "Epoch 20/50\n",
      "4514/4514 [==============================] - 3s 676us/step - loss: 0.3406 - accuracy: 0.8492\n",
      "Epoch 21/50\n",
      "4514/4514 [==============================] - 3s 680us/step - loss: 0.3405 - accuracy: 0.8489\n",
      "Epoch 22/50\n",
      "4514/4514 [==============================] - 3s 675us/step - loss: 0.3402 - accuracy: 0.8493\n",
      "Epoch 23/50\n",
      "4514/4514 [==============================] - 3s 676us/step - loss: 0.3402 - accuracy: 0.8493\n",
      "Epoch 24/50\n",
      "4514/4514 [==============================] - 3s 681us/step - loss: 0.3404 - accuracy: 0.8491\n",
      "Epoch 25/50\n",
      "4514/4514 [==============================] - 3s 693us/step - loss: 0.3399 - accuracy: 0.8498\n",
      "Epoch 26/50\n",
      "4514/4514 [==============================] - 3s 677us/step - loss: 0.3396 - accuracy: 0.8495\n",
      "Epoch 27/50\n",
      "4514/4514 [==============================] - 3s 681us/step - loss: 0.3397 - accuracy: 0.8500\n",
      "Epoch 28/50\n",
      "4514/4514 [==============================] - 3s 692us/step - loss: 0.3394 - accuracy: 0.8494\n",
      "Epoch 29/50\n",
      "4514/4514 [==============================] - 3s 674us/step - loss: 0.3392 - accuracy: 0.8498\n",
      "Epoch 30/50\n",
      "4514/4514 [==============================] - 3s 676us/step - loss: 0.3390 - accuracy: 0.8501\n",
      "Epoch 31/50\n",
      "4514/4514 [==============================] - 3s 678us/step - loss: 0.3393 - accuracy: 0.8498\n",
      "Epoch 32/50\n",
      "4514/4514 [==============================] - 3s 678us/step - loss: 0.3387 - accuracy: 0.8496\n",
      "Epoch 33/50\n",
      "4514/4514 [==============================] - 3s 679us/step - loss: 0.3388 - accuracy: 0.8496\n",
      "Epoch 34/50\n",
      "4514/4514 [==============================] - 3s 678us/step - loss: 0.3385 - accuracy: 0.8494\n",
      "Epoch 35/50\n",
      "4514/4514 [==============================] - 3s 676us/step - loss: 0.3382 - accuracy: 0.8506\n",
      "Epoch 36/50\n",
      "4514/4514 [==============================] - 3s 680us/step - loss: 0.3383 - accuracy: 0.8503\n",
      "Epoch 37/50\n",
      "4514/4514 [==============================] - 3s 681us/step - loss: 0.3377 - accuracy: 0.8499\n",
      "Epoch 38/50\n",
      "4514/4514 [==============================] - 3s 680us/step - loss: 0.3377 - accuracy: 0.8513\n",
      "Epoch 39/50\n",
      "4514/4514 [==============================] - 3s 678us/step - loss: 0.3373 - accuracy: 0.8509\n",
      "Epoch 40/50\n",
      "4514/4514 [==============================] - 3s 676us/step - loss: 0.3377 - accuracy: 0.8500\n",
      "Epoch 41/50\n",
      "4514/4514 [==============================] - 3s 727us/step - loss: 0.3378 - accuracy: 0.8497\n",
      "Epoch 42/50\n",
      "4514/4514 [==============================] - 4s 783us/step - loss: 0.3373 - accuracy: 0.8505\n",
      "Epoch 43/50\n",
      "4514/4514 [==============================] - 3s 677us/step - loss: 0.3375 - accuracy: 0.8506\n",
      "Epoch 44/50\n",
      "4514/4514 [==============================] - 3s 708us/step - loss: 0.3374 - accuracy: 0.8500\n",
      "Epoch 45/50\n",
      "4514/4514 [==============================] - 3s 676us/step - loss: 0.3371 - accuracy: 0.8518\n",
      "Epoch 46/50\n",
      "4514/4514 [==============================] - 3s 683us/step - loss: 0.3373 - accuracy: 0.8507\n",
      "Epoch 47/50\n",
      "4514/4514 [==============================] - 3s 689us/step - loss: 0.3367 - accuracy: 0.8512\n",
      "Epoch 48/50\n",
      "4514/4514 [==============================] - 3s 719us/step - loss: 0.3366 - accuracy: 0.8512\n",
      "Epoch 49/50\n",
      "4514/4514 [==============================] - 3s 696us/step - loss: 0.3365 - accuracy: 0.8518\n",
      "Epoch 50/50\n",
      "4514/4514 [==============================] - 3s 682us/step - loss: 0.3363 - accuracy: 0.8511\n"
     ]
    }
   ],
   "source": [
    "\n",
    "train_x, test_x, train_y, test_y = train_test_split(x, y, test_size= 0.2, random_state= random.randint(0, 100))\n",
    "batch_model.fit(train_x, train_y, verbose=0)\n",
    "probabilities = batch_model.predict_proba(test_x)\n"
   ]
  },
  {
   "cell_type": "code",
   "execution_count": 25,
   "id": "82f71320",
   "metadata": {},
   "outputs": [
    {
     "name": "stdout",
     "output_type": "stream",
     "text": [
      "0.8452144622802734\n"
     ]
    }
   ],
   "source": [
    "y = data.RainTomorrow\n",
    "kfold = KFold(n_splits=10, shuffle=True, random_state=random.randint(0, 10)) \n",
    "results = cross_val_score(batch_model, x, y, cv=kfold, n_jobs=-1)\n",
    "print(results.mean())"
   ]
  },
  {
   "cell_type": "markdown",
   "id": "bb94c003",
   "metadata": {},
   "source": [
    "## Función de activación\n",
    "\n",
    "En esta sección se realizarán pruebas al modelo con distintas funciones de activación, esto con el propósito de conocer cuál es la más óptima para este tipo de datos.\n"
   ]
  },
  {
   "cell_type": "code",
   "execution_count": 22,
   "id": "73fefd13",
   "metadata": {},
   "outputs": [],
   "source": [
    "def create_model_activation(init_mode='uniform'):\n",
    "    #defining my model\n",
    "    mymodel = Sequential()\n",
    "    mymodel.add(Dense(9, kernel_initializer=init_mode, input_dim=9, activation='relu'))\n",
    "    mymodel.add(Dense(27, kernel_initializer=init_mode, activation='relu'))\n",
    "    mymodel.add(Dense(12, kernel_initializer=init_mode,activation='relu'))\n",
    "    mymodel.add(Dense(1, activation='sigmoid'))\n",
    "    \n",
    "    # Compile the model\n",
    "    mymodel.compile(loss='binary_crossentropy', optimizer='adam', metrics=['accuracy'])\n",
    "    return mymodel"
   ]
  },
  {
   "cell_type": "markdown",
   "id": "b49b6cee",
   "metadata": {},
   "source": [
    "### Creacion del modelo\n",
    "\n",
    "Creamos el modelo de nuevo, con la mejor combinacino de epochs y batch"
   ]
  },
  {
   "cell_type": "code",
   "execution_count": null,
   "id": "6ce0c869",
   "metadata": {},
   "outputs": [],
   "source": [
    "model = KerasClassifier(build_fn=create_model_activation, epochs=50, batch_size=10)"
   ]
  },
  {
   "cell_type": "markdown",
   "id": "f096090b",
   "metadata": {},
   "source": [
    "### Parameters\n",
    "En esta parte vamos a probar cual es la mejor funcion de activacion\n"
   ]
  },
  {
   "cell_type": "code",
   "execution_count": 36,
   "id": "9e15ef5e",
   "metadata": {},
   "outputs": [],
   "source": [
    "init_mode = ['uniform', 'lecun_uniform', 'normal', 'zero', 'glorot_normal', 'glorot_uniform', 'he_normal', 'he_uniform']\n",
    "param_grid = dict(init_mode=init_mode)"
   ]
  },
  {
   "cell_type": "code",
   "execution_count": 37,
   "id": "79aa9d35",
   "metadata": {},
   "outputs": [
    {
     "name": "stdout",
     "output_type": "stream",
     "text": [
      "Epoch 1/50\n",
      "4514/4514 [==============================] - 4s 678us/step - loss: 0.3695 - accuracy: 0.8364\n",
      "Epoch 2/50\n",
      "4514/4514 [==============================] - 3s 673us/step - loss: 0.3554 - accuracy: 0.8428\n",
      "Epoch 3/50\n",
      "4514/4514 [==============================] - 3s 668us/step - loss: 0.3548 - accuracy: 0.8427\n",
      "Epoch 4/50\n",
      "4514/4514 [==============================] - 3s 676us/step - loss: 0.3541 - accuracy: 0.8432\n",
      "Epoch 5/50\n",
      "4514/4514 [==============================] - 3s 671us/step - loss: 0.3539 - accuracy: 0.8421\n",
      "Epoch 6/50\n",
      "4514/4514 [==============================] - 3s 668us/step - loss: 0.3531 - accuracy: 0.8427\n",
      "Epoch 7/50\n",
      "4514/4514 [==============================] - 3s 676us/step - loss: 0.3526 - accuracy: 0.8431\n",
      "Epoch 8/50\n",
      "4514/4514 [==============================] - 3s 672us/step - loss: 0.3521 - accuracy: 0.8431\n",
      "Epoch 9/50\n",
      "4514/4514 [==============================] - 3s 672us/step - loss: 0.3512 - accuracy: 0.8444\n",
      "Epoch 10/50\n",
      "4514/4514 [==============================] - 3s 675us/step - loss: 0.3502 - accuracy: 0.8438\n",
      "Epoch 11/50\n",
      "4514/4514 [==============================] - 3s 676us/step - loss: 0.3497 - accuracy: 0.8437\n",
      "Epoch 12/50\n",
      "4514/4514 [==============================] - 3s 674us/step - loss: 0.3492 - accuracy: 0.8449\n",
      "Epoch 13/50\n",
      "4514/4514 [==============================] - 3s 674us/step - loss: 0.3489 - accuracy: 0.8442\n",
      "Epoch 14/50\n",
      "4514/4514 [==============================] - 3s 674us/step - loss: 0.3486 - accuracy: 0.8448\n",
      "Epoch 15/50\n",
      "4514/4514 [==============================] - 3s 675us/step - loss: 0.3483 - accuracy: 0.8453\n",
      "Epoch 16/50\n",
      "4514/4514 [==============================] - 3s 739us/step - loss: 0.3479 - accuracy: 0.8452\n",
      "Epoch 17/50\n",
      "4514/4514 [==============================] - 3s 682us/step - loss: 0.3478 - accuracy: 0.8447\n",
      "Epoch 18/50\n",
      "4514/4514 [==============================] - 3s 676us/step - loss: 0.3478 - accuracy: 0.8453\n",
      "Epoch 19/50\n",
      "4514/4514 [==============================] - 3s 675us/step - loss: 0.3474 - accuracy: 0.8461\n",
      "Epoch 20/50\n",
      "4514/4514 [==============================] - 3s 675us/step - loss: 0.3471 - accuracy: 0.8457\n",
      "Epoch 21/50\n",
      "4514/4514 [==============================] - 3s 672us/step - loss: 0.3467 - accuracy: 0.8454\n",
      "Epoch 22/50\n",
      "4514/4514 [==============================] - 3s 667us/step - loss: 0.3472 - accuracy: 0.8455\n",
      "Epoch 23/50\n",
      "4514/4514 [==============================] - 3s 670us/step - loss: 0.3466 - accuracy: 0.8463\n",
      "Epoch 24/50\n",
      "4514/4514 [==============================] - 3s 674us/step - loss: 0.3462 - accuracy: 0.8456\n",
      "Epoch 25/50\n",
      "4514/4514 [==============================] - 3s 669us/step - loss: 0.3462 - accuracy: 0.8462\n",
      "Epoch 26/50\n",
      "4514/4514 [==============================] - 3s 743us/step - loss: 0.3460 - accuracy: 0.8466\n",
      "Epoch 27/50\n",
      "4514/4514 [==============================] - 3s 759us/step - loss: 0.3456 - accuracy: 0.8460\n",
      "Epoch 28/50\n",
      "4514/4514 [==============================] - 3s 736us/step - loss: 0.3456 - accuracy: 0.8464\n",
      "Epoch 29/50\n",
      "4514/4514 [==============================] - 3s 737us/step - loss: 0.3451 - accuracy: 0.8473\n",
      "Epoch 30/50\n",
      "4514/4514 [==============================] - 3s 730us/step - loss: 0.3453 - accuracy: 0.8472\n",
      "Epoch 31/50\n",
      "4514/4514 [==============================] - 3s 723us/step - loss: 0.3448 - accuracy: 0.8470\n",
      "Epoch 32/50\n",
      "4514/4514 [==============================] - 3s 750us/step - loss: 0.3445 - accuracy: 0.8467\n",
      "Epoch 33/50\n",
      "4514/4514 [==============================] - 3s 680us/step - loss: 0.3448 - accuracy: 0.8475\n",
      "Epoch 34/50\n",
      "4514/4514 [==============================] - 3s 674us/step - loss: 0.3446 - accuracy: 0.8476\n",
      "Epoch 35/50\n",
      "4514/4514 [==============================] - 3s 675us/step - loss: 0.3443 - accuracy: 0.8472\n",
      "Epoch 36/50\n",
      "4514/4514 [==============================] - 3s 757us/step - loss: 0.3443 - accuracy: 0.8467\n",
      "Epoch 37/50\n",
      "4514/4514 [==============================] - 3s 740us/step - loss: 0.3439 - accuracy: 0.8471\n",
      "Epoch 38/50\n",
      "4514/4514 [==============================] - 3s 675us/step - loss: 0.3441 - accuracy: 0.8470\n",
      "Epoch 39/50\n",
      "4514/4514 [==============================] - 3s 676us/step - loss: 0.3436 - accuracy: 0.8478\n",
      "Epoch 40/50\n",
      "4514/4514 [==============================] - 3s 674us/step - loss: 0.3438 - accuracy: 0.8474\n",
      "Epoch 41/50\n",
      "4514/4514 [==============================] - 3s 679us/step - loss: 0.3434 - accuracy: 0.8475\n",
      "Epoch 42/50\n",
      "4514/4514 [==============================] - 3s 677us/step - loss: 0.3436 - accuracy: 0.8476\n",
      "Epoch 43/50\n",
      "4514/4514 [==============================] - 3s 687us/step - loss: 0.3433 - accuracy: 0.8483\n",
      "Epoch 44/50\n",
      "4514/4514 [==============================] - 3s 675us/step - loss: 0.3432 - accuracy: 0.8480\n",
      "Epoch 45/50\n",
      "4514/4514 [==============================] - 3s 676us/step - loss: 0.3433 - accuracy: 0.8469\n",
      "Epoch 46/50\n",
      "4514/4514 [==============================] - 3s 675us/step - loss: 0.3432 - accuracy: 0.8478\n",
      "Epoch 47/50\n",
      "4514/4514 [==============================] - 3s 674us/step - loss: 0.3430 - accuracy: 0.8479\n",
      "Epoch 48/50\n",
      "4514/4514 [==============================] - 3s 672us/step - loss: 0.3431 - accuracy: 0.8482\n",
      "Epoch 49/50\n",
      "4514/4514 [==============================] - 3s 676us/step - loss: 0.3428 - accuracy: 0.8474\n",
      "Epoch 50/50\n",
      "4514/4514 [==============================] - 3s 675us/step - loss: 0.3428 - accuracy: 0.8481\n"
     ]
    }
   ],
   "source": [
    "cv = RepeatedStratifiedKFold(n_splits=10, n_repeats=3, random_state=1)\n",
    "grid = GridSearchCV(estimator=model, param_grid=param_grid, n_jobs=-1, cv=3)\n",
    "grid_result = grid.fit(train_x, train_y)\n"
   ]
  },
  {
   "cell_type": "markdown",
   "id": "80fdc62f",
   "metadata": {},
   "source": [
    "### Best Hyperparameters\n",
    "\n",
    "Imprimimos la combinación de los parámetros y sus resultados, obtenemos la mejor combinación de estos para obtener el mejor resultado.\n"
   ]
  },
  {
   "cell_type": "code",
   "execution_count": 38,
   "id": "86d6bf42",
   "metadata": {},
   "outputs": [
    {
     "name": "stdout",
     "output_type": "stream",
     "text": [
      "Best: 0.844714 using {'init_mode': 'normal'}\n",
      "0.843628 (0.003593) with: {'init_mode': 'uniform'}\n",
      "0.843628 (0.002541) with: {'init_mode': 'lecun_uniform'}\n",
      "0.844714 (0.002108) with: {'init_mode': 'normal'}\n",
      "0.778802 (0.002084) with: {'init_mode': 'zero'}\n",
      "0.844536 (0.003359) with: {'init_mode': 'glorot_normal'}\n",
      "0.844226 (0.003268) with: {'init_mode': 'glorot_uniform'}\n",
      "0.843318 (0.001267) with: {'init_mode': 'he_normal'}\n",
      "0.844005 (0.003011) with: {'init_mode': 'he_uniform'}\n"
     ]
    }
   ],
   "source": [
    "print(\"Best: %f using %s\" % (grid_result.best_score_, grid_result.best_params_))\n",
    "means = grid_result.cv_results_['mean_test_score']\n",
    "stds = grid_result.cv_results_['std_test_score']\n",
    "params = grid_result.cv_results_['params']\n",
    "for mean, stdev, param in zip(means, stds, params):\n",
    "    print(\"%f (%f) with: %r\" % (mean, stdev, param))"
   ]
  },
  {
   "cell_type": "code",
   "execution_count": 26,
   "id": "3655f8c8",
   "metadata": {},
   "outputs": [],
   "source": [
    "# Function to create model,for KerasClassifier\n",
    "def create_best_activation_model():\n",
    "    #defining my model\n",
    "    mymodel = Sequential()\n",
    "    mymodel.add(Dense(9,kernel_initializer = 'normal', input_dim=9, activation='relu'))\n",
    "    mymodel.add(Dense(27,kernel_initializer = 'normal', activation='relu'))\n",
    "    mymodel.add(Dense(12,kernel_initializer = 'normal', activation='relu'))\n",
    "    mymodel.add(Dense(1,kernel_initializer = 'normal', activation='sigmoid'))\n",
    "    \n",
    "    # Compile the model\n",
    "    mymodel.compile(loss='binary_crossentropy', optimizer='adam', metrics=['accuracy'])\n",
    "    return mymodel"
   ]
  },
  {
   "cell_type": "code",
   "execution_count": 27,
   "id": "1af3d77a",
   "metadata": {},
   "outputs": [],
   "source": [
    "activation_model = KerasClassifier(build_fn=create_best_activation_model, epochs=50, batch_size=10)"
   ]
  },
  {
   "cell_type": "code",
   "execution_count": 28,
   "id": "6cf98162",
   "metadata": {},
   "outputs": [
    {
     "name": "stdout",
     "output_type": "stream",
     "text": [
      "0.8466324090957642\n"
     ]
    }
   ],
   "source": [
    "y = data.RainTomorrow\n",
    "kfold = KFold(n_splits=10, shuffle=True, random_state=random.randint(0, 10)) \n",
    "results = cross_val_score(activation_model, x, y, cv=kfold, n_jobs=-1)\n",
    "print(results.mean())                    "
   ]
  },
  {
   "cell_type": "markdown",
   "id": "019b9fdd",
   "metadata": {},
   "source": [
    "## Resumen\n",
    "\n",
    "En síntesis una vez aplicado el dataset para predecir la lluvia en un dataset en una red neuronal compleja 2 capas ocultas con 27 y 12 neuronas. Entre los parámetros se escogieron los siguientes: Batch_size, Epoch, Activation function.\n",
    "De los cuales obtuvimos como mejores la siguiente combinación:\n",
    "\n",
    "* Batch_size = 10\n",
    "* Epoch = 50\n",
    "* Activation function = normal\n",
    "\n",
    "Con esta combinación de parámetros obtuvimos una precisión de 0.8466324090957642.\n"
   ]
  },
  {
   "cell_type": "markdown",
   "id": "fc4d3c0d",
   "metadata": {},
   "source": [
    "# Red neuronal simple\n",
    "Luego de haber realizado una red neuronal compleja en su arquitectura, realizamos una red neuronal más simple; con una capa oculta y distintas cantidades de neuronas.\n",
    "La capa de entrada, contiene 9 neuronas,una por cada parámetro. \n",
    "\n",
    "Usaré otra regla que establece que la cantidad de neuronas ocultas debe ser igual a 2/3 de la suma de las neuronas en la capa de entrada más las neuronas en la capa de salida. Por lo que la cantidad de neuronas es $\\dfrac{2}{3}\\cdot 10 = 6 $.\n",
    "\n",
    "En síntesis, esta red neuronal tiene solamente una capa oculta con 6 neuronas.\n"
   ]
  },
  {
   "cell_type": "markdown",
   "id": "e5faebe8",
   "metadata": {},
   "source": [
    "## Prueba de parámetros\n",
    "\n",
    "## Batch size y epochs\n",
    "\n",
    "En esta sección estaremos probando con distintas cantidades de batch y epochs, para averiguar cual es la que tiene mejores resultados.\n",
    "\n",
    "\n"
   ]
  },
  {
   "cell_type": "code",
   "execution_count": 29,
   "id": "e41044ee",
   "metadata": {},
   "outputs": [],
   "source": [
    "# Function to create model,for KerasClassifier\n",
    "def create_my_model():\n",
    "    #defining my model\n",
    "    mymodel = Sequential()\n",
    "    mymodel.add(Dense(9, input_dim=9, activation='relu'))\n",
    "    mymodel.add(Dense(6, activation='relu'))\n",
    "    mymodel.add(Dense(1, activation='sigmoid'))\n",
    "    \n",
    "    # Compile the model\n",
    "    mymodel.compile(loss='binary_crossentropy', optimizer='adam', metrics=['accuracy'])\n",
    "    return mymodel"
   ]
  },
  {
   "cell_type": "markdown",
   "id": "573776b2",
   "metadata": {},
   "source": [
    "### Creación  del modelo"
   ]
  },
  {
   "cell_type": "code",
   "execution_count": 43,
   "id": "a47de649",
   "metadata": {},
   "outputs": [],
   "source": [
    "# create model\n",
    "model = KerasClassifier(build_fn=create_my_model)"
   ]
  },
  {
   "cell_type": "markdown",
   "id": "4e03672e",
   "metadata": {},
   "source": [
    "De igual manera se realizará una comprobación de parámetros, esta vez con más variedad. Dado que la red es más pequeña, mis recursos computacionales lo permiten. \n",
    " \n"
   ]
  },
  {
   "cell_type": "code",
   "execution_count": 44,
   "id": "91b2c819",
   "metadata": {},
   "outputs": [],
   "source": [
    "# define the grid search parameters\n",
    "batchSize = [10, 20, 40, 60, 80, 100]\n",
    "epochs = [10, 30, 50]\n",
    "grid = dict(batch_size=batchSize, epochs=epochs)"
   ]
  },
  {
   "cell_type": "markdown",
   "id": "26000ef3",
   "metadata": {},
   "source": [
    "### Tuning  Hyperparameters\n",
    "\n",
    " Se ejecuta la combinación de cada parámetro en un stratified  cross validation."
   ]
  },
  {
   "cell_type": "code",
   "execution_count": 45,
   "id": "f6d06d15",
   "metadata": {},
   "outputs": [
    {
     "name": "stdout",
     "output_type": "stream",
     "text": [
      "Epoch 1/30\n",
      "1129/1129 [==============================] - 1s 629us/step - loss: 0.4106 - accuracy: 0.8053\n",
      "Epoch 2/30\n",
      "1129/1129 [==============================] - 1s 629us/step - loss: 0.3688 - accuracy: 0.8326\n",
      "Epoch 3/30\n",
      "1129/1129 [==============================] - 1s 627us/step - loss: 0.3589 - accuracy: 0.8402\n",
      "Epoch 4/30\n",
      "1129/1129 [==============================] - 1s 624us/step - loss: 0.3550 - accuracy: 0.8427\n",
      "Epoch 5/30\n",
      "1129/1129 [==============================] - 1s 624us/step - loss: 0.3531 - accuracy: 0.8448\n",
      "Epoch 6/30\n",
      "1129/1129 [==============================] - 1s 622us/step - loss: 0.3520 - accuracy: 0.8444\n",
      "Epoch 7/30\n",
      "1129/1129 [==============================] - 1s 628us/step - loss: 0.3513 - accuracy: 0.8448\n",
      "Epoch 8/30\n",
      "1129/1129 [==============================] - 1s 628us/step - loss: 0.3505 - accuracy: 0.8455\n",
      "Epoch 9/30\n",
      "1129/1129 [==============================] - 1s 625us/step - loss: 0.3498 - accuracy: 0.8458\n",
      "Epoch 10/30\n",
      "1129/1129 [==============================] - 1s 630us/step - loss: 0.3496 - accuracy: 0.8460\n",
      "Epoch 11/30\n",
      "1129/1129 [==============================] - 1s 623us/step - loss: 0.3489 - accuracy: 0.8455\n",
      "Epoch 12/30\n",
      "1129/1129 [==============================] - 1s 624us/step - loss: 0.3488 - accuracy: 0.8459\n",
      "Epoch 13/30\n",
      "1129/1129 [==============================] - 1s 622us/step - loss: 0.3485 - accuracy: 0.8455\n",
      "Epoch 14/30\n",
      "1129/1129 [==============================] - 1s 627us/step - loss: 0.3486 - accuracy: 0.8457\n",
      "Epoch 15/30\n",
      "1129/1129 [==============================] - 1s 628us/step - loss: 0.3485 - accuracy: 0.8458\n",
      "Epoch 16/30\n",
      "1129/1129 [==============================] - 1s 619us/step - loss: 0.3484 - accuracy: 0.8454\n",
      "Epoch 17/30\n",
      "1129/1129 [==============================] - 1s 623us/step - loss: 0.3481 - accuracy: 0.8460\n",
      "Epoch 18/30\n",
      "1129/1129 [==============================] - 1s 622us/step - loss: 0.3481 - accuracy: 0.8458\n",
      "Epoch 19/30\n",
      "1129/1129 [==============================] - 1s 622us/step - loss: 0.3483 - accuracy: 0.8457\n",
      "Epoch 20/30\n",
      "1129/1129 [==============================] - 1s 625us/step - loss: 0.3480 - accuracy: 0.8456\n",
      "Epoch 21/30\n",
      "1129/1129 [==============================] - 1s 630us/step - loss: 0.3481 - accuracy: 0.8464\n",
      "Epoch 22/30\n",
      "1129/1129 [==============================] - 1s 624us/step - loss: 0.3479 - accuracy: 0.8462\n",
      "Epoch 23/30\n",
      "1129/1129 [==============================] - 1s 628us/step - loss: 0.3480 - accuracy: 0.8463\n",
      "Epoch 24/30\n",
      "1129/1129 [==============================] - 1s 629us/step - loss: 0.3480 - accuracy: 0.8459\n",
      "Epoch 25/30\n",
      "1129/1129 [==============================] - 1s 629us/step - loss: 0.3477 - accuracy: 0.8457\n",
      "Epoch 26/30\n",
      "1129/1129 [==============================] - 1s 623us/step - loss: 0.3481 - accuracy: 0.8455\n",
      "Epoch 27/30\n",
      "1129/1129 [==============================] - 1s 626us/step - loss: 0.3479 - accuracy: 0.8458\n",
      "Epoch 28/30\n",
      "1129/1129 [==============================] - 1s 630us/step - loss: 0.3476 - accuracy: 0.8460\n",
      "Epoch 29/30\n",
      "1129/1129 [==============================] - 1s 627us/step - loss: 0.3476 - accuracy: 0.8457\n",
      "Epoch 30/30\n",
      "1129/1129 [==============================] - 1s 620us/step - loss: 0.3476 - accuracy: 0.8465\n"
     ]
    }
   ],
   "source": [
    "\n",
    "cv = RepeatedStratifiedKFold(n_splits=10, n_repeats=3, random_state=1)\n",
    "grid_search = GridSearchCV(estimator=model, param_grid=grid, n_jobs=-1, cv=cv, scoring='accuracy',error_score=0)\n",
    "grid_result = grid_search.fit(train_x, train_y)"
   ]
  },
  {
   "cell_type": "markdown",
   "id": "85822425",
   "metadata": {},
   "source": [
    "### Best Hyperparameters\n",
    " \n",
    "Imprimimos la combinación de los parámetros y sus resultados, obtenemos la mejor combinación de estos para obtener el mejor resultado.\n",
    " \n",
    "\n"
   ]
  },
  {
   "cell_type": "code",
   "execution_count": 46,
   "id": "1020808a",
   "metadata": {},
   "outputs": [
    {
     "name": "stdout",
     "output_type": "stream",
     "text": [
      "Best: 0.846073 using {'batch_size': 40, 'epochs': 30}\n",
      "0.844197 (0.004558) with: {'batch_size': 10, 'epochs': 10}\n",
      "0.845733 (0.004302) with: {'batch_size': 10, 'epochs': 30}\n",
      "0.845696 (0.004375) with: {'batch_size': 10, 'epochs': 50}\n",
      "0.844647 (0.004761) with: {'batch_size': 20, 'epochs': 10}\n",
      "0.845482 (0.004294) with: {'batch_size': 20, 'epochs': 30}\n",
      "0.845600 (0.005154) with: {'batch_size': 20, 'epochs': 50}\n",
      "0.843960 (0.004504) with: {'batch_size': 40, 'epochs': 10}\n",
      "0.846073 (0.004799) with: {'batch_size': 40, 'epochs': 30}\n",
      "0.845762 (0.005228) with: {'batch_size': 40, 'epochs': 50}\n",
      "0.844079 (0.004566) with: {'batch_size': 60, 'epochs': 10}\n",
      "0.845164 (0.004469) with: {'batch_size': 60, 'epochs': 30}\n",
      "0.845408 (0.004377) with: {'batch_size': 60, 'epochs': 50}\n",
      "0.843539 (0.004422) with: {'batch_size': 80, 'epochs': 10}\n",
      "0.844854 (0.004157) with: {'batch_size': 80, 'epochs': 30}\n",
      "0.845607 (0.004265) with: {'batch_size': 80, 'epochs': 50}\n",
      "0.843384 (0.005036) with: {'batch_size': 100, 'epochs': 10}\n",
      "0.844876 (0.004311) with: {'batch_size': 100, 'epochs': 30}\n",
      "0.845489 (0.005019) with: {'batch_size': 100, 'epochs': 50}\n"
     ]
    }
   ],
   "source": [
    "print(\"Best: %f using %s\" % (grid_result.best_score_, grid_result.best_params_))\n",
    "means = grid_result.cv_results_['mean_test_score']\n",
    "stds = grid_result.cv_results_['std_test_score']\n",
    "params = grid_result.cv_results_['params']\n",
    "for mean, stdev, param in zip(means, stds, params):\n",
    "    print(\"%f (%f) with: %r\" % (mean, stdev, param))"
   ]
  },
  {
   "cell_type": "code",
   "execution_count": 30,
   "id": "8260b8f2",
   "metadata": {},
   "outputs": [],
   "source": [
    "# create model\n",
    "model = KerasClassifier(build_fn=create_my_model, epochs=30, batch_size=40)"
   ]
  },
  {
   "cell_type": "code",
   "execution_count": 31,
   "id": "a597dc9b",
   "metadata": {},
   "outputs": [
    {
     "name": "stdout",
     "output_type": "stream",
     "text": [
      "0.846242469549179\n"
     ]
    }
   ],
   "source": [
    "y = data.RainTomorrow\n",
    "kfold = KFold(n_splits=10, shuffle=True, random_state=random.randint(0, 10)) \n",
    "results = cross_val_score(model, x, y, cv=kfold, n_jobs=-1)\n",
    "print(results.mean())           "
   ]
  },
  {
   "cell_type": "markdown",
   "id": "7e32d89b",
   "metadata": {},
   "source": [
    "## Optimizador de la función de activación\n",
    " \n",
    "En esta parte probaremos el optimizador, de esta manera conoceremos con cual es que tenemos mejor precisión en el modelo.\n",
    " \n",
    "\n"
   ]
  },
  {
   "cell_type": "code",
   "execution_count": 32,
   "id": "143cf3c7",
   "metadata": {},
   "outputs": [],
   "source": [
    "def create_model_optimizer(optimizer='adam'):\n",
    "    #defining my model\n",
    "    mymodel = Sequential()\n",
    "    mymodel.add(Dense(9, input_dim=9, activation='relu'))\n",
    "    mymodel.add(Dense(6, activation='relu'))\n",
    "    mymodel.add(Dense(1, activation='sigmoid'))\n",
    "    # Compile model\n",
    "    mymodel.compile(loss='binary_crossentropy', optimizer=optimizer, metrics=['accuracy'])\n",
    "    return mymodel"
   ]
  },
  {
   "cell_type": "code",
   "execution_count": 50,
   "id": "ebbef0c8",
   "metadata": {},
   "outputs": [],
   "source": [
    "model_opt = KerasClassifier(build_fn=create_model_optimizer, epochs=30, batch_size=40)"
   ]
  },
  {
   "cell_type": "markdown",
   "id": "96087599",
   "metadata": {},
   "source": [
    "### Parameters\n",
    "\n"
   ]
  },
  {
   "cell_type": "code",
   "execution_count": 51,
   "id": "9ac8010f",
   "metadata": {},
   "outputs": [],
   "source": [
    "# define the grid search parameters\n",
    "optimizer = ['SGD','Adadelta', 'RMSprop', 'Adagrad','Adam']\n",
    "\n",
    "grid = dict(optimizer=optimizer)"
   ]
  },
  {
   "cell_type": "markdown",
   "id": "78bbfa04",
   "metadata": {},
   "source": [
    "### Tuning Hyperparameters\n",
    "\n",
    " Se ejecuta la combinación de cada parámetro en un stratified cross validation."
   ]
  },
  {
   "cell_type": "code",
   "execution_count": 52,
   "id": "c053194d",
   "metadata": {},
   "outputs": [
    {
     "name": "stdout",
     "output_type": "stream",
     "text": [
      "Epoch 1/30\n",
      "1129/1129 [==============================] - 1s 653us/step - loss: 0.4381 - accuracy: 0.8043\n",
      "Epoch 2/30\n",
      "1129/1129 [==============================] - 1s 648us/step - loss: 0.3603 - accuracy: 0.8386\n",
      "Epoch 3/30\n",
      "1129/1129 [==============================] - 1s 657us/step - loss: 0.3547 - accuracy: 0.8423\n",
      "Epoch 4/30\n",
      "1129/1129 [==============================] - 1s 644us/step - loss: 0.3524 - accuracy: 0.8436\n",
      "Epoch 5/30\n",
      "1129/1129 [==============================] - 1s 631us/step - loss: 0.3512 - accuracy: 0.8438\n",
      "Epoch 6/30\n",
      "1129/1129 [==============================] - 1s 639us/step - loss: 0.3506 - accuracy: 0.8447\n",
      "Epoch 7/30\n",
      "1129/1129 [==============================] - 1s 634us/step - loss: 0.3501 - accuracy: 0.8449\n",
      "Epoch 8/30\n",
      "1129/1129 [==============================] - 1s 638us/step - loss: 0.3498 - accuracy: 0.8445\n",
      "Epoch 9/30\n",
      "1129/1129 [==============================] - 1s 630us/step - loss: 0.3493 - accuracy: 0.8452\n",
      "Epoch 10/30\n",
      "1129/1129 [==============================] - 1s 640us/step - loss: 0.3490 - accuracy: 0.8450\n",
      "Epoch 11/30\n",
      "1129/1129 [==============================] - 1s 732us/step - loss: 0.3487 - accuracy: 0.8456\n",
      "Epoch 12/30\n",
      "1129/1129 [==============================] - 1s 647us/step - loss: 0.3485 - accuracy: 0.8456\n",
      "Epoch 13/30\n",
      "1129/1129 [==============================] - 1s 644us/step - loss: 0.3480 - accuracy: 0.8461\n",
      "Epoch 14/30\n",
      "1129/1129 [==============================] - 1s 638us/step - loss: 0.3480 - accuracy: 0.8456\n",
      "Epoch 15/30\n",
      "1129/1129 [==============================] - 1s 635us/step - loss: 0.3477 - accuracy: 0.8460\n",
      "Epoch 16/30\n",
      "1129/1129 [==============================] - 1s 632us/step - loss: 0.3475 - accuracy: 0.8462\n",
      "Epoch 17/30\n",
      "1129/1129 [==============================] - 1s 630us/step - loss: 0.3472 - accuracy: 0.8460\n",
      "Epoch 18/30\n",
      "1129/1129 [==============================] - 1s 632us/step - loss: 0.3472 - accuracy: 0.8465\n",
      "Epoch 19/30\n",
      "1129/1129 [==============================] - 1s 637us/step - loss: 0.3470 - accuracy: 0.8466\n",
      "Epoch 20/30\n",
      "1129/1129 [==============================] - 1s 630us/step - loss: 0.3468 - accuracy: 0.8459\n",
      "Epoch 21/30\n",
      "1129/1129 [==============================] - 1s 635us/step - loss: 0.3468 - accuracy: 0.8470\n",
      "Epoch 22/30\n",
      "1129/1129 [==============================] - 1s 634us/step - loss: 0.3466 - accuracy: 0.8465\n",
      "Epoch 23/30\n",
      "1129/1129 [==============================] - 1s 633us/step - loss: 0.3466 - accuracy: 0.8465\n",
      "Epoch 24/30\n",
      "1129/1129 [==============================] - 1s 634us/step - loss: 0.3464 - accuracy: 0.8468\n",
      "Epoch 25/30\n",
      "1129/1129 [==============================] - 1s 647us/step - loss: 0.3464 - accuracy: 0.8470\n",
      "Epoch 26/30\n",
      "1129/1129 [==============================] - 1s 651us/step - loss: 0.3465 - accuracy: 0.8468\n",
      "Epoch 27/30\n",
      "1129/1129 [==============================] - 1s 640us/step - loss: 0.3464 - accuracy: 0.8474\n",
      "Epoch 28/30\n",
      "1129/1129 [==============================] - 1s 643us/step - loss: 0.3463 - accuracy: 0.8470\n",
      "Epoch 29/30\n",
      "1129/1129 [==============================] - 1s 637us/step - loss: 0.3463 - accuracy: 0.8470\n",
      "Epoch 30/30\n",
      "1129/1129 [==============================] - 1s 637us/step - loss: 0.3464 - accuracy: 0.8467\n"
     ]
    }
   ],
   "source": [
    "\n",
    "cv = RepeatedStratifiedKFold(n_splits=10, n_repeats=3, random_state=1)\n",
    "grid_search = GridSearchCV(estimator=model_opt, param_grid=grid, n_jobs=-1, cv=cv, scoring='accuracy',error_score=0)\n",
    "grid_result = grid_search.fit(train_x, train_y)"
   ]
  },
  {
   "cell_type": "markdown",
   "id": "13e7e647",
   "metadata": {},
   "source": [
    "### Best Hyperparameters\n",
    "\n",
    "Imprimimos la combinación de los parámetros y sus resultados, obtenemos la mejor combinacion de estos para obtener el mejor resultado."
   ]
  },
  {
   "cell_type": "code",
   "execution_count": 53,
   "id": "1327da03",
   "metadata": {},
   "outputs": [
    {
     "name": "stdout",
     "output_type": "stream",
     "text": [
      "Best: 0.845570 using {'optimizer': 'Adam'}\n",
      "0.844056 (0.004267) with: {'optimizer': 'SGD'}\n",
      "0.687022 (0.090215) with: {'optimizer': 'Adadelta'}\n",
      "0.845400 (0.004650) with: {'optimizer': 'RMSprop'}\n",
      "0.822447 (0.014578) with: {'optimizer': 'Adagrad'}\n",
      "0.845570 (0.004621) with: {'optimizer': 'Adam'}\n"
     ]
    }
   ],
   "source": [
    "print(\"Best: %f using %s\" % (grid_result.best_score_, grid_result.best_params_))\n",
    "means = grid_result.cv_results_['mean_test_score']\n",
    "stds = grid_result.cv_results_['std_test_score']\n",
    "params = grid_result.cv_results_['params']\n",
    "for mean, stdev, param in zip(means, stds, params):\n",
    "    print(\"%f (%f) with: %r\" % (mean, stdev, param))"
   ]
  },
  {
   "cell_type": "markdown",
   "id": "5fb7e690",
   "metadata": {},
   "source": [
    "### Creación del modelo con los mejores parámetros\n",
    "\n"
   ]
  },
  {
   "cell_type": "code",
   "execution_count": 33,
   "id": "54449c82",
   "metadata": {},
   "outputs": [],
   "source": [
    "model = KerasClassifier(build_fn=create_model_optimizer, epochs=30, batch_size=40)"
   ]
  },
  {
   "cell_type": "markdown",
   "id": "3f093c2c",
   "metadata": {},
   "source": [
    "## Training with hyperparameters\n",
    "En esta parte se prueba el modelo con los mejores hiperparametros, con distintos datos. Esto con el propósito de evitar algún sesgo generado en el split. Razón por la que se usa un número aleatorio  para el random_state, de esta manera obtendremos distintas secciones de training y test.\n"
   ]
  },
  {
   "cell_type": "code",
   "execution_count": 34,
   "id": "02126118",
   "metadata": {},
   "outputs": [
    {
     "name": "stdout",
     "output_type": "stream",
     "text": [
      "0.8469337165355683\n"
     ]
    }
   ],
   "source": [
    "y = data.RainTomorrow\n",
    "kfold = KFold(n_splits=10, shuffle=True, random_state=random.randint(0, 10)) \n",
    "results = cross_val_score(model, x, y, cv=kfold, n_jobs=-1)\n",
    "print(results.mean())"
   ]
  },
  {
   "cell_type": "markdown",
   "id": "ad9463c9",
   "metadata": {},
   "source": [
    "0.8469337165355683## Resumen\n",
    "    mymodel.add(Dense(9, input_dim=9, activation='relu'))\n",
    "    mymodel.add(Dense(6, activation='relu'))\n",
    "    mymodel.add(Dense(1, activation='sigmoid'))\n",
    "En síntesis una vez aplicado el dataset para predecir la lluvia en un dataset en una red neuronal mas simple, con una capa oculta con 6 neuronas. Entre los parámetros se escogieron los siguientes: Batch_size, Epoch, Activation function.\n",
    "De los cuales obtuvimos como mejores la siguiente combinación:\n",
    "\n",
    "* Batch_size = 40\n",
    "* Epoch = 30\n",
    "* Activation function optimizer = Adam\n",
    "\n",
    "Con esta combinación se obtuvo una precisión de 0.8469337165355683, muy similar a la obtenida en la red neuronal más compleja."
   ]
  }
 ],
 "metadata": {
  "kernelspec": {
   "display_name": "bigdata",
   "language": "python",
   "name": "bigdata"
  },
  "language_info": {
   "codemirror_mode": {
    "name": "ipython",
    "version": 3
   },
   "file_extension": ".py",
   "mimetype": "text/x-python",
   "name": "python",
   "nbconvert_exporter": "python",
   "pygments_lexer": "ipython3",
   "version": "3.9.4"
  }
 },
 "nbformat": 4,
 "nbformat_minor": 5
}
