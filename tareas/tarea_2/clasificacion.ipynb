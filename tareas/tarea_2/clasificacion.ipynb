{
 "cells": [
  {
   "cell_type": "markdown",
   "id": "92bf075c",
   "metadata": {},
   "source": [
    "# Problema de clasificacion\n",
    "En este ejercicio se pretende clasificar las aplicaciones por descargas. Esto se hara con base a ciertos parametros, que son los siguientes: cantidad de criticas(Reviews) y puntuacion promedio de esas criticas (Rating). Una vez se realice la regresion lineal, se pretende conocer la cantidad de instalaciones que una aplicacion alcanzo, conociendo solamente esos dos datos de parametro. \n"
   ]
  },
  {
   "cell_type": "code",
   "execution_count": 1,
   "id": "ee2d46eb",
   "metadata": {},
   "outputs": [],
   "source": [
    "import os \n",
    "import pandas as pd\n",
    "import numpy as np \n",
    "import matplotlib.pyplot as plt\n",
    "import seaborn\n",
    "from sklearn.model_selection import cross_val_score\n",
    "from sklearn.model_selection import RepeatedStratifiedKFold\n",
    "from sklearn.ensemble import RandomForestClassifier\n",
    "from sklearn.linear_model import LinearRegression"
   ]
  },
  {
   "cell_type": "code",
   "execution_count": 2,
   "id": "5b1ed1d7",
   "metadata": {},
   "outputs": [],
   "source": [
    "data_set = pd.read_csv('googleplaystore-transformed.csv')"
   ]
  },
  {
   "cell_type": "code",
   "execution_count": 3,
   "id": "33abef3e",
   "metadata": {},
   "outputs": [
    {
     "output_type": "execute_result",
     "data": {
      "text/plain": [
       "            App        Category  Rating  Reviews    Size  Installs  Type  \\\n",
       "0  ¡Ay Caramba!          FAMILY     0.0        0  549000         1  Paid   \n",
       "1    ¡Ay Metro!            GAME     3.8      489     36M     10000  Free   \n",
       "2    ¿Es Vegan?  FOOD_AND_DRINK     4.6      438    1.7M     10000  Free   \n",
       "3        /u/app   COMMUNICATION     4.7      573     53M     10000  Free   \n",
       "4            .R           TOOLS     4.5      259    203k     10000  Free   \n",
       "\n",
       "   Price Content Rating         Genres          Last Updated Current Ver  \\\n",
       "0   1.99       Everyone      Education  2014-06-13T00:00:00Z         1.2   \n",
       "1   0.00   Everyone 10+         Arcade  2015-03-17T00:00:00Z     1.0.3.1   \n",
       "2   0.00       Everyone   Food & Drink  2017-08-01T00:00:00Z       2.2.3   \n",
       "3   0.00     Mature 17+  Communication  2018-07-03T00:00:00Z       4.2.4   \n",
       "4   0.00       Everyone          Tools  2014-09-16T00:00:00Z      1.1.06   \n",
       "\n",
       "  Android Ver  \n",
       "0  3.0 and up  \n",
       "1  4.0 and up  \n",
       "2  3.0 and up  \n",
       "3  4.1 and up  \n",
       "4  1.5 and up  "
      ],
      "text/html": "<div>\n<style scoped>\n    .dataframe tbody tr th:only-of-type {\n        vertical-align: middle;\n    }\n\n    .dataframe tbody tr th {\n        vertical-align: top;\n    }\n\n    .dataframe thead th {\n        text-align: right;\n    }\n</style>\n<table border=\"1\" class=\"dataframe\">\n  <thead>\n    <tr style=\"text-align: right;\">\n      <th></th>\n      <th>App</th>\n      <th>Category</th>\n      <th>Rating</th>\n      <th>Reviews</th>\n      <th>Size</th>\n      <th>Installs</th>\n      <th>Type</th>\n      <th>Price</th>\n      <th>Content Rating</th>\n      <th>Genres</th>\n      <th>Last Updated</th>\n      <th>Current Ver</th>\n      <th>Android Ver</th>\n    </tr>\n  </thead>\n  <tbody>\n    <tr>\n      <th>0</th>\n      <td>¡Ay Caramba!</td>\n      <td>FAMILY</td>\n      <td>0.0</td>\n      <td>0</td>\n      <td>549000</td>\n      <td>1</td>\n      <td>Paid</td>\n      <td>1.99</td>\n      <td>Everyone</td>\n      <td>Education</td>\n      <td>2014-06-13T00:00:00Z</td>\n      <td>1.2</td>\n      <td>3.0 and up</td>\n    </tr>\n    <tr>\n      <th>1</th>\n      <td>¡Ay Metro!</td>\n      <td>GAME</td>\n      <td>3.8</td>\n      <td>489</td>\n      <td>36M</td>\n      <td>10000</td>\n      <td>Free</td>\n      <td>0.00</td>\n      <td>Everyone 10+</td>\n      <td>Arcade</td>\n      <td>2015-03-17T00:00:00Z</td>\n      <td>1.0.3.1</td>\n      <td>4.0 and up</td>\n    </tr>\n    <tr>\n      <th>2</th>\n      <td>¿Es Vegan?</td>\n      <td>FOOD_AND_DRINK</td>\n      <td>4.6</td>\n      <td>438</td>\n      <td>1.7M</td>\n      <td>10000</td>\n      <td>Free</td>\n      <td>0.00</td>\n      <td>Everyone</td>\n      <td>Food &amp; Drink</td>\n      <td>2017-08-01T00:00:00Z</td>\n      <td>2.2.3</td>\n      <td>3.0 and up</td>\n    </tr>\n    <tr>\n      <th>3</th>\n      <td>/u/app</td>\n      <td>COMMUNICATION</td>\n      <td>4.7</td>\n      <td>573</td>\n      <td>53M</td>\n      <td>10000</td>\n      <td>Free</td>\n      <td>0.00</td>\n      <td>Mature 17+</td>\n      <td>Communication</td>\n      <td>2018-07-03T00:00:00Z</td>\n      <td>4.2.4</td>\n      <td>4.1 and up</td>\n    </tr>\n    <tr>\n      <th>4</th>\n      <td>.R</td>\n      <td>TOOLS</td>\n      <td>4.5</td>\n      <td>259</td>\n      <td>203k</td>\n      <td>10000</td>\n      <td>Free</td>\n      <td>0.00</td>\n      <td>Everyone</td>\n      <td>Tools</td>\n      <td>2014-09-16T00:00:00Z</td>\n      <td>1.1.06</td>\n      <td>1.5 and up</td>\n    </tr>\n  </tbody>\n</table>\n</div>"
     },
     "metadata": {},
     "execution_count": 3
    }
   ],
   "source": [
    "data_set.head()"
   ]
  },
  {
   "cell_type": "code",
   "execution_count": 4,
   "id": "35e6a097",
   "metadata": {},
   "outputs": [
    {
     "output_type": "execute_result",
     "data": {
      "text/plain": [
       "(9602, 13)"
      ]
     },
     "metadata": {},
     "execution_count": 4
    }
   ],
   "source": [
    "#Cantidad de filas que contiene el dataset\n",
    "data_set.shape"
   ]
  },
  {
   "source": [
    "Como se puede observar el dataset tiene un tamaño relativamente grande. \n",
    "\n",
    "A continuacion vamos a proceder a realizar nuestros vectores x y y. Los cuales seran nuestros puntos de comparacion en la clasificacion. "
   ],
   "cell_type": "markdown",
   "metadata": {}
  },
  {
   "cell_type": "code",
   "execution_count": 5,
   "id": "91f64a91",
   "metadata": {},
   "outputs": [],
   "source": [
    "x = data_set[['Rating', 'Reviews']]\n",
    "y = data_set['Installs']"
   ]
  },
  {
   "cell_type": "code",
   "execution_count": 6,
   "id": "a272034c",
   "metadata": {},
   "outputs": [
    {
     "output_type": "stream",
     "name": "stdout",
     "text": [
      "(7681, 2)\n(7681,)\n(1921, 2)\n(1921,)\n"
     ]
    }
   ],
   "source": [
    "\n",
    "from sklearn.model_selection import train_test_split\n",
    "X_train, X_test, y_train, y_test = train_test_split(x, y, train_size = 0.8, random_state=1)\n",
    "print(X_train.shape)\n",
    "print(y_train.shape)\n",
    "print(X_test.shape)\n",
    "print(y_test.shape)"
   ]
  },
  {
   "cell_type": "code",
   "execution_count": 7,
   "id": "6a63b245",
   "metadata": {},
   "outputs": [
    {
     "output_type": "execute_result",
     "data": {
      "text/plain": [
       "LinearRegression()"
      ]
     },
     "metadata": {},
     "execution_count": 7
    }
   ],
   "source": [
    "model = LinearRegression()\n",
    "\n",
    "# fit del modelo \n",
    "model.fit(X_train, y_train)"
   ]
  },
  {
   "cell_type": "code",
   "execution_count": 10,
   "id": "95947c82",
   "metadata": {},
   "outputs": [
    {
     "output_type": "stream",
     "name": "stdout",
     "text": [
      "171107.4306207681\n"
     ]
    },
    {
     "output_type": "execute_result",
     "data": {
      "text/plain": [
       "[('Rating', 986107.3783209667), ('Reviews', 18.78339400860837)]"
      ]
     },
     "metadata": {},
     "execution_count": 10
    }
   ],
   "source": [
    "# pair the feature names with the coefficients\n",
    "print(model.intercept_)\n",
    "list(zip(['Rating', 'Reviews'], model.coef_))"
   ]
  },
  {
   "source": [
    "Esto significa que el coeficiente de las puntuaciones en las criticas(Rating) equivale a 986107.3783209667 y  cantidad de criticas obtenida es 18.78339400860837. Por lo que podemos interpretar lo siguiente\n",
    "\n",
    "* Por cada critica que un usuario escribe, hay 18 instalaciones.   \n",
    "\n",
    "* Por cada *estrella* en la puntuacion equivale a 986107 instalaciones.\n",
    "Estrella es analogo a la escala del 1 al 5 que existen en la seccion de criticas de la playstore.\n",
    "\n",
    "Para obtener y se usa la siguiente formula\n",
    "$$y = 171107.4306207681 +986107.3783209667 \\cdot \\text{Rating} + 18.78339400860837 \\cdot \\text{Reviews} $$"
   ],
   "cell_type": "markdown",
   "metadata": {}
  },
  {
   "cell_type": "code",
   "execution_count": 15,
   "id": "f7087638",
   "metadata": {},
   "outputs": [
    {
     "output_type": "stream",
     "name": "stdout",
     "text": [
      "[      1   10000   10000 ... 1000000   10000 1000000]\n[4474082.34728715 4856062.05845367 3956993.70336154 ...  233413.12136499\n 3977303.3675766  5060013.47486204]\n"
     ]
    }
   ],
   "source": []
  },
  {
   "cell_type": "code",
   "execution_count": 22,
   "id": "a42f0230",
   "metadata": {},
   "outputs": [
    {
     "output_type": "stream",
     "name": "stdout",
     "text": [
      "MAE: 7597367.349987324\n"
     ]
    }
   ],
   "source": [
    "from sklearn import metrics\n",
    "y_pred = model.predict(X_test)\n",
    "\n",
    "y_set = data_set['Installs']\n",
    "y_true = y_set.to_numpy()\n",
    "\n",
    "\n",
    "print('MAE:', metrics.mean_absolute_error(y_test, y_pred))"
   ]
  },
  {
   "cell_type": "code",
   "execution_count": 23,
   "id": "87ad6de2",
   "metadata": {},
   "outputs": [
    {
     "output_type": "stream",
     "name": "stdout",
     "text": [
      "MSE: 1616618881280933.5\n"
     ]
    }
   ],
   "source": [
    "print('MSE:', metrics.mean_squared_error(y_test, y_pred))"
   ]
  },
  {
   "cell_type": "code",
   "execution_count": 24,
   "id": "3837d49d",
   "metadata": {},
   "outputs": [
    {
     "output_type": "stream",
     "name": "stdout",
     "text": [
      "RMSE: 40207199.371268496\n"
     ]
    }
   ],
   "source": [
    "import numpy as np\n",
    "print('RMSE:',np.sqrt(metrics.mean_squared_error(y_test, y_pred)))"
   ]
  },
  {
   "cell_type": "code",
   "execution_count": 26,
   "id": "b7cd9d80",
   "metadata": {},
   "outputs": [
    {
     "output_type": "stream",
     "name": "stdout",
     "text": [
      "Cantidad de instalaciones predecido: 10000000\n"
     ]
    }
   ],
   "source": [
    "rating = input('Ingrese una puntuacion')\n",
    "review = input('Ingrese la cantidad de criticas')\n",
    "\n",
    "model = RandomForestClassifier()\n",
    "model.fit(x, y)\n",
    "# make a single prediction\n",
    "row = [[rating,review]]\n",
    "yhat = model.predict(row)\n",
    "print('Cantidad de instalaciones predecido: %d' % yhat[0])"
   ]
  }
 ],
 "metadata": {
  "kernelspec": {
   "display_name": "bigdata",
   "language": "python",
   "name": "bigdata"
  },
  "language_info": {
   "codemirror_mode": {
    "name": "ipython",
    "version": 3
   },
   "file_extension": ".py",
   "mimetype": "text/x-python",
   "name": "python",
   "nbconvert_exporter": "python",
   "pygments_lexer": "ipython3",
   "version": "3.9.4"
  }
 },
 "nbformat": 4,
 "nbformat_minor": 5
}